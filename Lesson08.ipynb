{
  "nbformat": 4,
  "nbformat_minor": 0,
  "metadata": {
    "colab": {
      "provenance": [],
      "authorship_tag": "ABX9TyMj0WX68BniRR8lLaTg1gys",
      "include_colab_link": true
    },
    "kernelspec": {
      "name": "python3",
      "display_name": "Python 3"
    },
    "language_info": {
      "name": "python"
    }
  },
  "cells": [
    {
      "cell_type": "markdown",
      "metadata": {
        "id": "view-in-github",
        "colab_type": "text"
      },
      "source": [
        "<a href=\"https://colab.research.google.com/github/pbarizza/ML-course-2025/blob/main/Lesson08.ipynb\" target=\"_parent\"><img src=\"https://colab.research.google.com/assets/colab-badge.svg\" alt=\"Open In Colab\"/></a>"
      ]
    },
    {
      "cell_type": "markdown",
      "source": [
        "#Lesson 8#\n",
        "\n",
        "*12-Jul-2025*\n",
        "\n",
        "Random Forest / MLOps"
      ],
      "metadata": {
        "id": "bfs8o1BFjy6b"
      }
    },
    {
      "cell_type": "code",
      "source": [],
      "metadata": {
        "id": "_QqhIfNQj8aI"
      },
      "execution_count": null,
      "outputs": []
    }
  ]
}