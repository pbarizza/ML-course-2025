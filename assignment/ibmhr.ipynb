{
  "nbformat": 4,
  "nbformat_minor": 0,
  "metadata": {
    "colab": {
      "provenance": []
    },
    "kernelspec": {
      "name": "python3",
      "display_name": "Python 3"
    },
    "language_info": {
      "name": "python"
    }
  },
  "cells": [
    {
      "cell_type": "markdown",
      "source": [
        "#Machine Learning Course Assignment#\n",
        "\n",
        "*Prof: Ladle Patel*\n",
        "\n",
        "*Student: Pietro Barizza*\n",
        "\n",
        "*Case study 2: IBM HR Analytics Employee Attrition & Performance*\n",
        "\n",
        "*Objective*\n",
        "\n",
        "You are an HR analyst. Your goal is to predict whether an employee is likely to leave the\n",
        "company using historical HR data. You’ll compare two classification models:\n",
        "* Logistic Regression\n",
        "* Decision Tree Classifier"
      ],
      "metadata": {
        "id": "99VDFWVlwuMB"
      }
    },
    {
      "cell_type": "markdown",
      "source": [],
      "metadata": {
        "id": "2e7NyDr5wrzh"
      }
    },
    {
      "cell_type": "code",
      "source": [
        "# import libraries\n",
        "import pandas as pd\n",
        "import numpy as np\n",
        "import matplotlib.pyplot as plt\n",
        "import seaborn as sns"
      ],
      "metadata": {
        "id": "RPYvyJ79iXe3"
      },
      "execution_count": 1,
      "outputs": []
    },
    {
      "cell_type": "markdown",
      "source": [
        "Q1. Load the dataset and display the first 5 rows."
      ],
      "metadata": {
        "id": "yuZDMDyki1uP"
      }
    },
    {
      "cell_type": "code",
      "source": [
        "# load dataset from github\n",
        "df = pd.read_csv('https://raw.githubusercontent.com/pbarizza/ML-course-2025/refs/heads/main/assignment/IBMHR_Data.csv')"
      ],
      "metadata": {
        "id": "BKrJMQkDido1"
      },
      "execution_count": 2,
      "outputs": []
    },
    {
      "cell_type": "code",
      "source": [
        "# explore the dataset\n",
        "df.head()"
      ],
      "metadata": {
        "colab": {
          "base_uri": "https://localhost:8080/",
          "height": 325
        },
        "id": "ohDOxbVbisgL",
        "outputId": "1841f726-ea8f-4f34-976b-3a89c6e0a8c5"
      },
      "execution_count": 3,
      "outputs": [
        {
          "output_type": "execute_result",
          "data": {
            "text/plain": [
              "   Age Attrition     BusinessTravel  DailyRate              Department  \\\n",
              "0   41       Yes      Travel_Rarely       1102                   Sales   \n",
              "1   49        No  Travel_Frequently        279  Research & Development   \n",
              "2   37       Yes      Travel_Rarely       1373  Research & Development   \n",
              "3   33        No  Travel_Frequently       1392  Research & Development   \n",
              "4   27        No      Travel_Rarely        591  Research & Development   \n",
              "\n",
              "   DistanceFromHome  Education EducationField  EmployeeCount  EmployeeNumber  \\\n",
              "0                 1          2  Life Sciences              1               1   \n",
              "1                 8          1  Life Sciences              1               2   \n",
              "2                 2          2          Other              1               4   \n",
              "3                 3          4  Life Sciences              1               5   \n",
              "4                 2          1        Medical              1               7   \n",
              "\n",
              "   ...  RelationshipSatisfaction StandardHours  StockOptionLevel  \\\n",
              "0  ...                         1            80                 0   \n",
              "1  ...                         4            80                 1   \n",
              "2  ...                         2            80                 0   \n",
              "3  ...                         3            80                 0   \n",
              "4  ...                         4            80                 1   \n",
              "\n",
              "   TotalWorkingYears  TrainingTimesLastYear WorkLifeBalance  YearsAtCompany  \\\n",
              "0                  8                      0               1               6   \n",
              "1                 10                      3               3              10   \n",
              "2                  7                      3               3               0   \n",
              "3                  8                      3               3               8   \n",
              "4                  6                      3               3               2   \n",
              "\n",
              "  YearsInCurrentRole  YearsSinceLastPromotion  YearsWithCurrManager  \n",
              "0                  4                        0                     5  \n",
              "1                  7                        1                     7  \n",
              "2                  0                        0                     0  \n",
              "3                  7                        3                     0  \n",
              "4                  2                        2                     2  \n",
              "\n",
              "[5 rows x 35 columns]"
            ],
            "text/html": [
              "\n",
              "  <div id=\"df-232fb903-bba3-4f35-9c2e-15d591faa4a0\" class=\"colab-df-container\">\n",
              "    <div>\n",
              "<style scoped>\n",
              "    .dataframe tbody tr th:only-of-type {\n",
              "        vertical-align: middle;\n",
              "    }\n",
              "\n",
              "    .dataframe tbody tr th {\n",
              "        vertical-align: top;\n",
              "    }\n",
              "\n",
              "    .dataframe thead th {\n",
              "        text-align: right;\n",
              "    }\n",
              "</style>\n",
              "<table border=\"1\" class=\"dataframe\">\n",
              "  <thead>\n",
              "    <tr style=\"text-align: right;\">\n",
              "      <th></th>\n",
              "      <th>Age</th>\n",
              "      <th>Attrition</th>\n",
              "      <th>BusinessTravel</th>\n",
              "      <th>DailyRate</th>\n",
              "      <th>Department</th>\n",
              "      <th>DistanceFromHome</th>\n",
              "      <th>Education</th>\n",
              "      <th>EducationField</th>\n",
              "      <th>EmployeeCount</th>\n",
              "      <th>EmployeeNumber</th>\n",
              "      <th>...</th>\n",
              "      <th>RelationshipSatisfaction</th>\n",
              "      <th>StandardHours</th>\n",
              "      <th>StockOptionLevel</th>\n",
              "      <th>TotalWorkingYears</th>\n",
              "      <th>TrainingTimesLastYear</th>\n",
              "      <th>WorkLifeBalance</th>\n",
              "      <th>YearsAtCompany</th>\n",
              "      <th>YearsInCurrentRole</th>\n",
              "      <th>YearsSinceLastPromotion</th>\n",
              "      <th>YearsWithCurrManager</th>\n",
              "    </tr>\n",
              "  </thead>\n",
              "  <tbody>\n",
              "    <tr>\n",
              "      <th>0</th>\n",
              "      <td>41</td>\n",
              "      <td>Yes</td>\n",
              "      <td>Travel_Rarely</td>\n",
              "      <td>1102</td>\n",
              "      <td>Sales</td>\n",
              "      <td>1</td>\n",
              "      <td>2</td>\n",
              "      <td>Life Sciences</td>\n",
              "      <td>1</td>\n",
              "      <td>1</td>\n",
              "      <td>...</td>\n",
              "      <td>1</td>\n",
              "      <td>80</td>\n",
              "      <td>0</td>\n",
              "      <td>8</td>\n",
              "      <td>0</td>\n",
              "      <td>1</td>\n",
              "      <td>6</td>\n",
              "      <td>4</td>\n",
              "      <td>0</td>\n",
              "      <td>5</td>\n",
              "    </tr>\n",
              "    <tr>\n",
              "      <th>1</th>\n",
              "      <td>49</td>\n",
              "      <td>No</td>\n",
              "      <td>Travel_Frequently</td>\n",
              "      <td>279</td>\n",
              "      <td>Research &amp; Development</td>\n",
              "      <td>8</td>\n",
              "      <td>1</td>\n",
              "      <td>Life Sciences</td>\n",
              "      <td>1</td>\n",
              "      <td>2</td>\n",
              "      <td>...</td>\n",
              "      <td>4</td>\n",
              "      <td>80</td>\n",
              "      <td>1</td>\n",
              "      <td>10</td>\n",
              "      <td>3</td>\n",
              "      <td>3</td>\n",
              "      <td>10</td>\n",
              "      <td>7</td>\n",
              "      <td>1</td>\n",
              "      <td>7</td>\n",
              "    </tr>\n",
              "    <tr>\n",
              "      <th>2</th>\n",
              "      <td>37</td>\n",
              "      <td>Yes</td>\n",
              "      <td>Travel_Rarely</td>\n",
              "      <td>1373</td>\n",
              "      <td>Research &amp; Development</td>\n",
              "      <td>2</td>\n",
              "      <td>2</td>\n",
              "      <td>Other</td>\n",
              "      <td>1</td>\n",
              "      <td>4</td>\n",
              "      <td>...</td>\n",
              "      <td>2</td>\n",
              "      <td>80</td>\n",
              "      <td>0</td>\n",
              "      <td>7</td>\n",
              "      <td>3</td>\n",
              "      <td>3</td>\n",
              "      <td>0</td>\n",
              "      <td>0</td>\n",
              "      <td>0</td>\n",
              "      <td>0</td>\n",
              "    </tr>\n",
              "    <tr>\n",
              "      <th>3</th>\n",
              "      <td>33</td>\n",
              "      <td>No</td>\n",
              "      <td>Travel_Frequently</td>\n",
              "      <td>1392</td>\n",
              "      <td>Research &amp; Development</td>\n",
              "      <td>3</td>\n",
              "      <td>4</td>\n",
              "      <td>Life Sciences</td>\n",
              "      <td>1</td>\n",
              "      <td>5</td>\n",
              "      <td>...</td>\n",
              "      <td>3</td>\n",
              "      <td>80</td>\n",
              "      <td>0</td>\n",
              "      <td>8</td>\n",
              "      <td>3</td>\n",
              "      <td>3</td>\n",
              "      <td>8</td>\n",
              "      <td>7</td>\n",
              "      <td>3</td>\n",
              "      <td>0</td>\n",
              "    </tr>\n",
              "    <tr>\n",
              "      <th>4</th>\n",
              "      <td>27</td>\n",
              "      <td>No</td>\n",
              "      <td>Travel_Rarely</td>\n",
              "      <td>591</td>\n",
              "      <td>Research &amp; Development</td>\n",
              "      <td>2</td>\n",
              "      <td>1</td>\n",
              "      <td>Medical</td>\n",
              "      <td>1</td>\n",
              "      <td>7</td>\n",
              "      <td>...</td>\n",
              "      <td>4</td>\n",
              "      <td>80</td>\n",
              "      <td>1</td>\n",
              "      <td>6</td>\n",
              "      <td>3</td>\n",
              "      <td>3</td>\n",
              "      <td>2</td>\n",
              "      <td>2</td>\n",
              "      <td>2</td>\n",
              "      <td>2</td>\n",
              "    </tr>\n",
              "  </tbody>\n",
              "</table>\n",
              "<p>5 rows × 35 columns</p>\n",
              "</div>\n",
              "    <div class=\"colab-df-buttons\">\n",
              "\n",
              "  <div class=\"colab-df-container\">\n",
              "    <button class=\"colab-df-convert\" onclick=\"convertToInteractive('df-232fb903-bba3-4f35-9c2e-15d591faa4a0')\"\n",
              "            title=\"Convert this dataframe to an interactive table.\"\n",
              "            style=\"display:none;\">\n",
              "\n",
              "  <svg xmlns=\"http://www.w3.org/2000/svg\" height=\"24px\" viewBox=\"0 -960 960 960\">\n",
              "    <path d=\"M120-120v-720h720v720H120Zm60-500h600v-160H180v160Zm220 220h160v-160H400v160Zm0 220h160v-160H400v160ZM180-400h160v-160H180v160Zm440 0h160v-160H620v160ZM180-180h160v-160H180v160Zm440 0h160v-160H620v160Z\"/>\n",
              "  </svg>\n",
              "    </button>\n",
              "\n",
              "  <style>\n",
              "    .colab-df-container {\n",
              "      display:flex;\n",
              "      gap: 12px;\n",
              "    }\n",
              "\n",
              "    .colab-df-convert {\n",
              "      background-color: #E8F0FE;\n",
              "      border: none;\n",
              "      border-radius: 50%;\n",
              "      cursor: pointer;\n",
              "      display: none;\n",
              "      fill: #1967D2;\n",
              "      height: 32px;\n",
              "      padding: 0 0 0 0;\n",
              "      width: 32px;\n",
              "    }\n",
              "\n",
              "    .colab-df-convert:hover {\n",
              "      background-color: #E2EBFA;\n",
              "      box-shadow: 0px 1px 2px rgba(60, 64, 67, 0.3), 0px 1px 3px 1px rgba(60, 64, 67, 0.15);\n",
              "      fill: #174EA6;\n",
              "    }\n",
              "\n",
              "    .colab-df-buttons div {\n",
              "      margin-bottom: 4px;\n",
              "    }\n",
              "\n",
              "    [theme=dark] .colab-df-convert {\n",
              "      background-color: #3B4455;\n",
              "      fill: #D2E3FC;\n",
              "    }\n",
              "\n",
              "    [theme=dark] .colab-df-convert:hover {\n",
              "      background-color: #434B5C;\n",
              "      box-shadow: 0px 1px 3px 1px rgba(0, 0, 0, 0.15);\n",
              "      filter: drop-shadow(0px 1px 2px rgba(0, 0, 0, 0.3));\n",
              "      fill: #FFFFFF;\n",
              "    }\n",
              "  </style>\n",
              "\n",
              "    <script>\n",
              "      const buttonEl =\n",
              "        document.querySelector('#df-232fb903-bba3-4f35-9c2e-15d591faa4a0 button.colab-df-convert');\n",
              "      buttonEl.style.display =\n",
              "        google.colab.kernel.accessAllowed ? 'block' : 'none';\n",
              "\n",
              "      async function convertToInteractive(key) {\n",
              "        const element = document.querySelector('#df-232fb903-bba3-4f35-9c2e-15d591faa4a0');\n",
              "        const dataTable =\n",
              "          await google.colab.kernel.invokeFunction('convertToInteractive',\n",
              "                                                    [key], {});\n",
              "        if (!dataTable) return;\n",
              "\n",
              "        const docLinkHtml = 'Like what you see? Visit the ' +\n",
              "          '<a target=\"_blank\" href=https://colab.research.google.com/notebooks/data_table.ipynb>data table notebook</a>'\n",
              "          + ' to learn more about interactive tables.';\n",
              "        element.innerHTML = '';\n",
              "        dataTable['output_type'] = 'display_data';\n",
              "        await google.colab.output.renderOutput(dataTable, element);\n",
              "        const docLink = document.createElement('div');\n",
              "        docLink.innerHTML = docLinkHtml;\n",
              "        element.appendChild(docLink);\n",
              "      }\n",
              "    </script>\n",
              "  </div>\n",
              "\n",
              "\n",
              "    <div id=\"df-8abb85f8-ee0c-4662-84c8-81dd4ebc82b7\">\n",
              "      <button class=\"colab-df-quickchart\" onclick=\"quickchart('df-8abb85f8-ee0c-4662-84c8-81dd4ebc82b7')\"\n",
              "                title=\"Suggest charts\"\n",
              "                style=\"display:none;\">\n",
              "\n",
              "<svg xmlns=\"http://www.w3.org/2000/svg\" height=\"24px\"viewBox=\"0 0 24 24\"\n",
              "     width=\"24px\">\n",
              "    <g>\n",
              "        <path d=\"M19 3H5c-1.1 0-2 .9-2 2v14c0 1.1.9 2 2 2h14c1.1 0 2-.9 2-2V5c0-1.1-.9-2-2-2zM9 17H7v-7h2v7zm4 0h-2V7h2v10zm4 0h-2v-4h2v4z\"/>\n",
              "    </g>\n",
              "</svg>\n",
              "      </button>\n",
              "\n",
              "<style>\n",
              "  .colab-df-quickchart {\n",
              "      --bg-color: #E8F0FE;\n",
              "      --fill-color: #1967D2;\n",
              "      --hover-bg-color: #E2EBFA;\n",
              "      --hover-fill-color: #174EA6;\n",
              "      --disabled-fill-color: #AAA;\n",
              "      --disabled-bg-color: #DDD;\n",
              "  }\n",
              "\n",
              "  [theme=dark] .colab-df-quickchart {\n",
              "      --bg-color: #3B4455;\n",
              "      --fill-color: #D2E3FC;\n",
              "      --hover-bg-color: #434B5C;\n",
              "      --hover-fill-color: #FFFFFF;\n",
              "      --disabled-bg-color: #3B4455;\n",
              "      --disabled-fill-color: #666;\n",
              "  }\n",
              "\n",
              "  .colab-df-quickchart {\n",
              "    background-color: var(--bg-color);\n",
              "    border: none;\n",
              "    border-radius: 50%;\n",
              "    cursor: pointer;\n",
              "    display: none;\n",
              "    fill: var(--fill-color);\n",
              "    height: 32px;\n",
              "    padding: 0;\n",
              "    width: 32px;\n",
              "  }\n",
              "\n",
              "  .colab-df-quickchart:hover {\n",
              "    background-color: var(--hover-bg-color);\n",
              "    box-shadow: 0 1px 2px rgba(60, 64, 67, 0.3), 0 1px 3px 1px rgba(60, 64, 67, 0.15);\n",
              "    fill: var(--button-hover-fill-color);\n",
              "  }\n",
              "\n",
              "  .colab-df-quickchart-complete:disabled,\n",
              "  .colab-df-quickchart-complete:disabled:hover {\n",
              "    background-color: var(--disabled-bg-color);\n",
              "    fill: var(--disabled-fill-color);\n",
              "    box-shadow: none;\n",
              "  }\n",
              "\n",
              "  .colab-df-spinner {\n",
              "    border: 2px solid var(--fill-color);\n",
              "    border-color: transparent;\n",
              "    border-bottom-color: var(--fill-color);\n",
              "    animation:\n",
              "      spin 1s steps(1) infinite;\n",
              "  }\n",
              "\n",
              "  @keyframes spin {\n",
              "    0% {\n",
              "      border-color: transparent;\n",
              "      border-bottom-color: var(--fill-color);\n",
              "      border-left-color: var(--fill-color);\n",
              "    }\n",
              "    20% {\n",
              "      border-color: transparent;\n",
              "      border-left-color: var(--fill-color);\n",
              "      border-top-color: var(--fill-color);\n",
              "    }\n",
              "    30% {\n",
              "      border-color: transparent;\n",
              "      border-left-color: var(--fill-color);\n",
              "      border-top-color: var(--fill-color);\n",
              "      border-right-color: var(--fill-color);\n",
              "    }\n",
              "    40% {\n",
              "      border-color: transparent;\n",
              "      border-right-color: var(--fill-color);\n",
              "      border-top-color: var(--fill-color);\n",
              "    }\n",
              "    60% {\n",
              "      border-color: transparent;\n",
              "      border-right-color: var(--fill-color);\n",
              "    }\n",
              "    80% {\n",
              "      border-color: transparent;\n",
              "      border-right-color: var(--fill-color);\n",
              "      border-bottom-color: var(--fill-color);\n",
              "    }\n",
              "    90% {\n",
              "      border-color: transparent;\n",
              "      border-bottom-color: var(--fill-color);\n",
              "    }\n",
              "  }\n",
              "</style>\n",
              "\n",
              "      <script>\n",
              "        async function quickchart(key) {\n",
              "          const quickchartButtonEl =\n",
              "            document.querySelector('#' + key + ' button');\n",
              "          quickchartButtonEl.disabled = true;  // To prevent multiple clicks.\n",
              "          quickchartButtonEl.classList.add('colab-df-spinner');\n",
              "          try {\n",
              "            const charts = await google.colab.kernel.invokeFunction(\n",
              "                'suggestCharts', [key], {});\n",
              "          } catch (error) {\n",
              "            console.error('Error during call to suggestCharts:', error);\n",
              "          }\n",
              "          quickchartButtonEl.classList.remove('colab-df-spinner');\n",
              "          quickchartButtonEl.classList.add('colab-df-quickchart-complete');\n",
              "        }\n",
              "        (() => {\n",
              "          let quickchartButtonEl =\n",
              "            document.querySelector('#df-8abb85f8-ee0c-4662-84c8-81dd4ebc82b7 button');\n",
              "          quickchartButtonEl.style.display =\n",
              "            google.colab.kernel.accessAllowed ? 'block' : 'none';\n",
              "        })();\n",
              "      </script>\n",
              "    </div>\n",
              "\n",
              "    </div>\n",
              "  </div>\n"
            ],
            "application/vnd.google.colaboratory.intrinsic+json": {
              "type": "dataframe",
              "variable_name": "df"
            }
          },
          "metadata": {},
          "execution_count": 3
        }
      ]
    },
    {
      "cell_type": "markdown",
      "source": [
        "Q2. What are the key features in this dataset?"
      ],
      "metadata": {
        "id": "mZ8V9tvji9aO"
      }
    },
    {
      "cell_type": "code",
      "source": [
        "df.shape"
      ],
      "metadata": {
        "colab": {
          "base_uri": "https://localhost:8080/"
        },
        "id": "nu_tvCrdjCfN",
        "outputId": "11e5829f-6ee3-40e4-85dd-194586fcce18"
      },
      "execution_count": 4,
      "outputs": [
        {
          "output_type": "execute_result",
          "data": {
            "text/plain": [
              "(1470, 35)"
            ]
          },
          "metadata": {},
          "execution_count": 4
        }
      ]
    },
    {
      "cell_type": "code",
      "source": [
        "df.columns"
      ],
      "metadata": {
        "colab": {
          "base_uri": "https://localhost:8080/"
        },
        "id": "SseMz36Lj15u",
        "outputId": "82cce24d-1cfe-4bef-f24f-eed885022466"
      },
      "execution_count": 5,
      "outputs": [
        {
          "output_type": "execute_result",
          "data": {
            "text/plain": [
              "Index(['Age', 'Attrition', 'BusinessTravel', 'DailyRate', 'Department',\n",
              "       'DistanceFromHome', 'Education', 'EducationField', 'EmployeeCount',\n",
              "       'EmployeeNumber', 'EnvironmentSatisfaction', 'Gender', 'HourlyRate',\n",
              "       'JobInvolvement', 'JobLevel', 'JobRole', 'JobSatisfaction',\n",
              "       'MaritalStatus', 'MonthlyIncome', 'MonthlyRate', 'NumCompaniesWorked',\n",
              "       'Over18', 'OverTime', 'PercentSalaryHike', 'PerformanceRating',\n",
              "       'RelationshipSatisfaction', 'StandardHours', 'StockOptionLevel',\n",
              "       'TotalWorkingYears', 'TrainingTimesLastYear', 'WorkLifeBalance',\n",
              "       'YearsAtCompany', 'YearsInCurrentRole', 'YearsSinceLastPromotion',\n",
              "       'YearsWithCurrManager'],\n",
              "      dtype='object')"
            ]
          },
          "metadata": {},
          "execution_count": 5
        }
      ]
    },
    {
      "cell_type": "code",
      "source": [
        "df.info()"
      ],
      "metadata": {
        "colab": {
          "base_uri": "https://localhost:8080/"
        },
        "id": "uhjyMZcWj4HB",
        "outputId": "1d953bb8-4275-407a-d351-f20189a67289"
      },
      "execution_count": 6,
      "outputs": [
        {
          "output_type": "stream",
          "name": "stdout",
          "text": [
            "<class 'pandas.core.frame.DataFrame'>\n",
            "RangeIndex: 1470 entries, 0 to 1469\n",
            "Data columns (total 35 columns):\n",
            " #   Column                    Non-Null Count  Dtype \n",
            "---  ------                    --------------  ----- \n",
            " 0   Age                       1470 non-null   int64 \n",
            " 1   Attrition                 1470 non-null   object\n",
            " 2   BusinessTravel            1470 non-null   object\n",
            " 3   DailyRate                 1470 non-null   int64 \n",
            " 4   Department                1470 non-null   object\n",
            " 5   DistanceFromHome          1470 non-null   int64 \n",
            " 6   Education                 1470 non-null   int64 \n",
            " 7   EducationField            1470 non-null   object\n",
            " 8   EmployeeCount             1470 non-null   int64 \n",
            " 9   EmployeeNumber            1470 non-null   int64 \n",
            " 10  EnvironmentSatisfaction   1470 non-null   int64 \n",
            " 11  Gender                    1470 non-null   object\n",
            " 12  HourlyRate                1470 non-null   int64 \n",
            " 13  JobInvolvement            1470 non-null   int64 \n",
            " 14  JobLevel                  1470 non-null   int64 \n",
            " 15  JobRole                   1470 non-null   object\n",
            " 16  JobSatisfaction           1470 non-null   int64 \n",
            " 17  MaritalStatus             1470 non-null   object\n",
            " 18  MonthlyIncome             1470 non-null   int64 \n",
            " 19  MonthlyRate               1470 non-null   int64 \n",
            " 20  NumCompaniesWorked        1470 non-null   int64 \n",
            " 21  Over18                    1470 non-null   object\n",
            " 22  OverTime                  1470 non-null   object\n",
            " 23  PercentSalaryHike         1470 non-null   int64 \n",
            " 24  PerformanceRating         1470 non-null   int64 \n",
            " 25  RelationshipSatisfaction  1470 non-null   int64 \n",
            " 26  StandardHours             1470 non-null   int64 \n",
            " 27  StockOptionLevel          1470 non-null   int64 \n",
            " 28  TotalWorkingYears         1470 non-null   int64 \n",
            " 29  TrainingTimesLastYear     1470 non-null   int64 \n",
            " 30  WorkLifeBalance           1470 non-null   int64 \n",
            " 31  YearsAtCompany            1470 non-null   int64 \n",
            " 32  YearsInCurrentRole        1470 non-null   int64 \n",
            " 33  YearsSinceLastPromotion   1470 non-null   int64 \n",
            " 34  YearsWithCurrManager      1470 non-null   int64 \n",
            "dtypes: int64(26), object(9)\n",
            "memory usage: 402.1+ KB\n"
          ]
        }
      ]
    },
    {
      "cell_type": "markdown",
      "source": [
        " 2   BusinessTravel            1470 non-null   object\n",
        " 3   DailyRate                 1470 non-null   int64\n",
        " 4   Department                1470 non-null   object\n",
        " 5   DistanceFromHome          1470 non-null   int64\n",
        " 6   Education                 1470 non-null   int64\n",
        " 7   EducationField            1470 non-null   object\n",
        " 8   EmployeeCount             1470 non-null   int64\n",
        " 9   EmployeeNumber            1470 non-null   int64\n",
        " 10  EnvironmentSatisfaction   1470 non-null   int64\n",
        " 11  Gender                    1470 non-null   object\n",
        " 12  HourlyRate                1470 non-null   int64\n",
        " 13  JobInvolvement            1470 non-null   int64\n",
        " 14  JobLevel                  1470 non-null   int64\n",
        " 15  JobRole                   1470 non-null   object\n",
        " 16  JobSatisfaction           1470 non-null   int64\n",
        " 17  MaritalStatus             1470 non-null   object\n",
        " 18  MonthlyIncome             1470 non-null   int64\n",
        " 19  MonthlyRate               1470 non-null   int64\n",
        " 20  NumCompaniesWorked        1470 non-null   int64\n",
        " 21  Over18                    1470 non-null   object\n",
        " 22  OverTime                  1470 non-null   object\n",
        " 23  PercentSalaryHike         1470 non-null   int64\n",
        " 24  PerformanceRating         1470 non-null   int64\n",
        " 25  RelationshipSatisfaction  1470 non-null   int64\n",
        " 26  StandardHours             1470 non-null   int64\n",
        " 27  StockOptionLevel          1470 non-null   int64\n",
        " 28  TotalWorkingYears         1470 non-null   int64\n",
        " 29  TrainingTimesLastYear     1470 non-null   int64\n",
        " 30  WorkLifeBalance           1470 non-null   int64\n",
        " 31  YearsAtCompany            1470 non-null   int64\n",
        " 32  YearsInCurrentRole        1470 non-null   int64\n",
        " 33  YearsSinceLastPromotion   1470 non-null   int64\n",
        " 34  YearsWithCurrManager      1470 non-null   int64\n",
        "dtypes: int64(26), object(9)\n",
        "memory usage: 402.1+ KB\n",
        "\n",
        "[25]\n",
        "0s\n",
        "for i, col in enumerate(df.columns):\n",
        "    print(f\"* {i:>2}: {col:<30} -->\")\n",
        "*  0: Age                            --> significative\n",
        "*  1: Attrition                      --> TARGET VARIABLE\n",
        "*  2: BusinessTravel                 --> less significative\n",
        "*  3: DailyRate                      --> significative\n",
        "*  4: Department                     --> significative\n",
        "*  5: DistanceFromHome               --> significative\n",
        "*  6: Education                      --> significative\n",
        "*  7: EducationField                 --> significative\n",
        "*  8: EmployeeCount                  --> not significative\n",
        "*  9: EmployeeNumber                 --> not significative\n",
        "* 10: EnvironmentSatisfaction        --> highly significative\n",
        "* 11: Gender                         --> significative\n",
        "* 12: HourlyRate                     --> significative\n",
        "* 13: JobInvolvement                 --> significative\n",
        "* 14: JobLevel                       --> significative\n",
        "* 15: JobRole                        --> significative\n",
        "* 16: JobSatisfaction                --> highly significative\n",
        "* 17: MaritalStatus                  --> significative\n",
        "* 18: MonthlyIncome                  --> highly significative\n",
        "* 19: MonthlyRate                    --> significative\n",
        "* 20: NumCompaniesWorked             --> significative\n",
        "* 21: Over18                         --> not significative\n",
        "* 22: OverTime                       --> highly significative\n",
        "* 23: PercentSalaryHike              --> significative\n",
        "* 24: PerformanceRating              --> significative\n",
        "* 25: RelationshipSatisfaction       --> significative\n",
        "* 26: StandardHours                  --> not significative\n",
        "* 27: StockOptionLevel               --> significative\n",
        "* 28: TotalWorkingYears              --> significative\n",
        "* 29: TrainingTimesLastYear          --> significative\n",
        "* 30: WorkLifeBalance                --> significative\n",
        "* 31: YearsAtCompany                 --> significative\n",
        "* 32: YearsInCurrentRole             --> significative\n",
        "* 33: YearsSinceLastPromotion        --> significative\n",
        "* 34: YearsWithCurrManager           --> significative\n",
        "\n",
        "Overall we can say that OverTime, MontlyIncome, JobSatisfaction, EnvironmentSatisfaction are key feature driving Attrition. We expect their coefficients to be dominant. DistanceFromHome, YearsAtCompany and Age come after, all the rest we expect to contribute in lesser part."
      ],
      "metadata": {
        "id": "tGE9BjrOokHY"
      }
    },
    {
      "cell_type": "markdown",
      "source": [],
      "metadata": {
        "id": "cpQB3GQNq3F-"
      }
    },
    {
      "cell_type": "markdown",
      "source": [],
      "metadata": {
        "id": "UlJLPNt7oR50"
      }
    },
    {
      "cell_type": "markdown",
      "source": [
        "Q3. What is the target variable? What are its possible values?"
      ],
      "metadata": {
        "id": "VGWp3owpi-UT"
      }
    },
    {
      "cell_type": "code",
      "source": [
        "# count the unique value of Attrition\n",
        "df['Attrition'].unique()\n",
        "# alternatively\n",
        "#df['Attrition'].value_counts()"
      ],
      "metadata": {
        "colab": {
          "base_uri": "https://localhost:8080/"
        },
        "id": "UJEF5YDQjDbY",
        "outputId": "c5aef60d-27d8-400e-d0cf-dea07019393d"
      },
      "execution_count": 7,
      "outputs": [
        {
          "output_type": "execute_result",
          "data": {
            "text/plain": [
              "array(['Yes', 'No'], dtype=object)"
            ]
          },
          "metadata": {},
          "execution_count": 7
        }
      ]
    },
    {
      "cell_type": "markdown",
      "source": [
        "The target variaable is 'Attrition' and has only 2 possible values: 'Yes' or 'No', since this is a binary classification.\n",
        "Attrition = 'No' --> the employee is unhappy\n",
        "Attrition = 'Yes' --> the employee is happy"
      ],
      "metadata": {
        "id": "gNoRJPj7l231"
      }
    },
    {
      "cell_type": "markdown",
      "source": [
        "Q4. How many employees left the company vs stayed? (Use value counts on the target variable.)"
      ],
      "metadata": {
        "id": "_vluTJg_jEDw"
      }
    },
    {
      "cell_type": "markdown",
      "source": [],
      "metadata": {
        "id": "gP443i3mjA49"
      }
    },
    {
      "cell_type": "code",
      "source": [
        "df['Attrition'].value_counts()"
      ],
      "metadata": {
        "colab": {
          "base_uri": "https://localhost:8080/",
          "height": 178
        },
        "id": "_uSPewk-jItQ",
        "outputId": "6c8784cc-da1e-471c-82b6-abe0c886fab7"
      },
      "execution_count": 8,
      "outputs": [
        {
          "output_type": "execute_result",
          "data": {
            "text/plain": [
              "Attrition\n",
              "No     1233\n",
              "Yes     237\n",
              "Name: count, dtype: int64"
            ],
            "text/html": [
              "<div>\n",
              "<style scoped>\n",
              "    .dataframe tbody tr th:only-of-type {\n",
              "        vertical-align: middle;\n",
              "    }\n",
              "\n",
              "    .dataframe tbody tr th {\n",
              "        vertical-align: top;\n",
              "    }\n",
              "\n",
              "    .dataframe thead th {\n",
              "        text-align: right;\n",
              "    }\n",
              "</style>\n",
              "<table border=\"1\" class=\"dataframe\">\n",
              "  <thead>\n",
              "    <tr style=\"text-align: right;\">\n",
              "      <th></th>\n",
              "      <th>count</th>\n",
              "    </tr>\n",
              "    <tr>\n",
              "      <th>Attrition</th>\n",
              "      <th></th>\n",
              "    </tr>\n",
              "  </thead>\n",
              "  <tbody>\n",
              "    <tr>\n",
              "      <th>No</th>\n",
              "      <td>1233</td>\n",
              "    </tr>\n",
              "    <tr>\n",
              "      <th>Yes</th>\n",
              "      <td>237</td>\n",
              "    </tr>\n",
              "  </tbody>\n",
              "</table>\n",
              "</div><br><label><b>dtype:</b> int64</label>"
            ]
          },
          "metadata": {},
          "execution_count": 8
        }
      ]
    },
    {
      "cell_type": "markdown",
      "source": [
        "237 emploees left and 1233 remains."
      ],
      "metadata": {
        "id": "P4lfAsCPq9ZE"
      }
    },
    {
      "cell_type": "markdown",
      "source": [
        "Q5. Check for missing values. Are there any?"
      ],
      "metadata": {
        "id": "F1l6l7_frO5S"
      }
    },
    {
      "cell_type": "code",
      "source": [
        "# checking for missing values\n",
        "df.isnull().sum()"
      ],
      "metadata": {
        "colab": {
          "base_uri": "https://localhost:8080/",
          "height": 1000
        },
        "id": "018VaM0brUwy",
        "outputId": "b9ff9de7-b6cb-487d-ff3e-3b8de6f623bf"
      },
      "execution_count": 9,
      "outputs": [
        {
          "output_type": "execute_result",
          "data": {
            "text/plain": [
              "Age                         0\n",
              "Attrition                   0\n",
              "BusinessTravel              0\n",
              "DailyRate                   0\n",
              "Department                  0\n",
              "DistanceFromHome            0\n",
              "Education                   0\n",
              "EducationField              0\n",
              "EmployeeCount               0\n",
              "EmployeeNumber              0\n",
              "EnvironmentSatisfaction     0\n",
              "Gender                      0\n",
              "HourlyRate                  0\n",
              "JobInvolvement              0\n",
              "JobLevel                    0\n",
              "JobRole                     0\n",
              "JobSatisfaction             0\n",
              "MaritalStatus               0\n",
              "MonthlyIncome               0\n",
              "MonthlyRate                 0\n",
              "NumCompaniesWorked          0\n",
              "Over18                      0\n",
              "OverTime                    0\n",
              "PercentSalaryHike           0\n",
              "PerformanceRating           0\n",
              "RelationshipSatisfaction    0\n",
              "StandardHours               0\n",
              "StockOptionLevel            0\n",
              "TotalWorkingYears           0\n",
              "TrainingTimesLastYear       0\n",
              "WorkLifeBalance             0\n",
              "YearsAtCompany              0\n",
              "YearsInCurrentRole          0\n",
              "YearsSinceLastPromotion     0\n",
              "YearsWithCurrManager        0\n",
              "dtype: int64"
            ],
            "text/html": [
              "<div>\n",
              "<style scoped>\n",
              "    .dataframe tbody tr th:only-of-type {\n",
              "        vertical-align: middle;\n",
              "    }\n",
              "\n",
              "    .dataframe tbody tr th {\n",
              "        vertical-align: top;\n",
              "    }\n",
              "\n",
              "    .dataframe thead th {\n",
              "        text-align: right;\n",
              "    }\n",
              "</style>\n",
              "<table border=\"1\" class=\"dataframe\">\n",
              "  <thead>\n",
              "    <tr style=\"text-align: right;\">\n",
              "      <th></th>\n",
              "      <th>0</th>\n",
              "    </tr>\n",
              "  </thead>\n",
              "  <tbody>\n",
              "    <tr>\n",
              "      <th>Age</th>\n",
              "      <td>0</td>\n",
              "    </tr>\n",
              "    <tr>\n",
              "      <th>Attrition</th>\n",
              "      <td>0</td>\n",
              "    </tr>\n",
              "    <tr>\n",
              "      <th>BusinessTravel</th>\n",
              "      <td>0</td>\n",
              "    </tr>\n",
              "    <tr>\n",
              "      <th>DailyRate</th>\n",
              "      <td>0</td>\n",
              "    </tr>\n",
              "    <tr>\n",
              "      <th>Department</th>\n",
              "      <td>0</td>\n",
              "    </tr>\n",
              "    <tr>\n",
              "      <th>DistanceFromHome</th>\n",
              "      <td>0</td>\n",
              "    </tr>\n",
              "    <tr>\n",
              "      <th>Education</th>\n",
              "      <td>0</td>\n",
              "    </tr>\n",
              "    <tr>\n",
              "      <th>EducationField</th>\n",
              "      <td>0</td>\n",
              "    </tr>\n",
              "    <tr>\n",
              "      <th>EmployeeCount</th>\n",
              "      <td>0</td>\n",
              "    </tr>\n",
              "    <tr>\n",
              "      <th>EmployeeNumber</th>\n",
              "      <td>0</td>\n",
              "    </tr>\n",
              "    <tr>\n",
              "      <th>EnvironmentSatisfaction</th>\n",
              "      <td>0</td>\n",
              "    </tr>\n",
              "    <tr>\n",
              "      <th>Gender</th>\n",
              "      <td>0</td>\n",
              "    </tr>\n",
              "    <tr>\n",
              "      <th>HourlyRate</th>\n",
              "      <td>0</td>\n",
              "    </tr>\n",
              "    <tr>\n",
              "      <th>JobInvolvement</th>\n",
              "      <td>0</td>\n",
              "    </tr>\n",
              "    <tr>\n",
              "      <th>JobLevel</th>\n",
              "      <td>0</td>\n",
              "    </tr>\n",
              "    <tr>\n",
              "      <th>JobRole</th>\n",
              "      <td>0</td>\n",
              "    </tr>\n",
              "    <tr>\n",
              "      <th>JobSatisfaction</th>\n",
              "      <td>0</td>\n",
              "    </tr>\n",
              "    <tr>\n",
              "      <th>MaritalStatus</th>\n",
              "      <td>0</td>\n",
              "    </tr>\n",
              "    <tr>\n",
              "      <th>MonthlyIncome</th>\n",
              "      <td>0</td>\n",
              "    </tr>\n",
              "    <tr>\n",
              "      <th>MonthlyRate</th>\n",
              "      <td>0</td>\n",
              "    </tr>\n",
              "    <tr>\n",
              "      <th>NumCompaniesWorked</th>\n",
              "      <td>0</td>\n",
              "    </tr>\n",
              "    <tr>\n",
              "      <th>Over18</th>\n",
              "      <td>0</td>\n",
              "    </tr>\n",
              "    <tr>\n",
              "      <th>OverTime</th>\n",
              "      <td>0</td>\n",
              "    </tr>\n",
              "    <tr>\n",
              "      <th>PercentSalaryHike</th>\n",
              "      <td>0</td>\n",
              "    </tr>\n",
              "    <tr>\n",
              "      <th>PerformanceRating</th>\n",
              "      <td>0</td>\n",
              "    </tr>\n",
              "    <tr>\n",
              "      <th>RelationshipSatisfaction</th>\n",
              "      <td>0</td>\n",
              "    </tr>\n",
              "    <tr>\n",
              "      <th>StandardHours</th>\n",
              "      <td>0</td>\n",
              "    </tr>\n",
              "    <tr>\n",
              "      <th>StockOptionLevel</th>\n",
              "      <td>0</td>\n",
              "    </tr>\n",
              "    <tr>\n",
              "      <th>TotalWorkingYears</th>\n",
              "      <td>0</td>\n",
              "    </tr>\n",
              "    <tr>\n",
              "      <th>TrainingTimesLastYear</th>\n",
              "      <td>0</td>\n",
              "    </tr>\n",
              "    <tr>\n",
              "      <th>WorkLifeBalance</th>\n",
              "      <td>0</td>\n",
              "    </tr>\n",
              "    <tr>\n",
              "      <th>YearsAtCompany</th>\n",
              "      <td>0</td>\n",
              "    </tr>\n",
              "    <tr>\n",
              "      <th>YearsInCurrentRole</th>\n",
              "      <td>0</td>\n",
              "    </tr>\n",
              "    <tr>\n",
              "      <th>YearsSinceLastPromotion</th>\n",
              "      <td>0</td>\n",
              "    </tr>\n",
              "    <tr>\n",
              "      <th>YearsWithCurrManager</th>\n",
              "      <td>0</td>\n",
              "    </tr>\n",
              "  </tbody>\n",
              "</table>\n",
              "</div><br><label><b>dtype:</b> int64</label>"
            ]
          },
          "metadata": {},
          "execution_count": 9
        }
      ]
    },
    {
      "cell_type": "markdown",
      "source": [
        "The dataset seems to be complete. no missing values"
      ],
      "metadata": {
        "id": "gjf0KJrtrgTw"
      }
    },
    {
      "cell_type": "markdown",
      "source": [
        "Q6. Convert categorical columns (like Attrition, Gender, Department, etc.) into numeric form. What encoding method will you use?"
      ],
      "metadata": {
        "id": "vm0ZAXttrkq2"
      }
    },
    {
      "cell_type": "code",
      "source": [
        "df.dtypes"
      ],
      "metadata": {
        "colab": {
          "base_uri": "https://localhost:8080/",
          "height": 1000
        },
        "id": "Ri_Kzp-rsWGH",
        "outputId": "959130f5-add6-46bb-ca26-b942455da944"
      },
      "execution_count": 10,
      "outputs": [
        {
          "output_type": "execute_result",
          "data": {
            "text/plain": [
              "Age                          int64\n",
              "Attrition                   object\n",
              "BusinessTravel              object\n",
              "DailyRate                    int64\n",
              "Department                  object\n",
              "DistanceFromHome             int64\n",
              "Education                    int64\n",
              "EducationField              object\n",
              "EmployeeCount                int64\n",
              "EmployeeNumber               int64\n",
              "EnvironmentSatisfaction      int64\n",
              "Gender                      object\n",
              "HourlyRate                   int64\n",
              "JobInvolvement               int64\n",
              "JobLevel                     int64\n",
              "JobRole                     object\n",
              "JobSatisfaction              int64\n",
              "MaritalStatus               object\n",
              "MonthlyIncome                int64\n",
              "MonthlyRate                  int64\n",
              "NumCompaniesWorked           int64\n",
              "Over18                      object\n",
              "OverTime                    object\n",
              "PercentSalaryHike            int64\n",
              "PerformanceRating            int64\n",
              "RelationshipSatisfaction     int64\n",
              "StandardHours                int64\n",
              "StockOptionLevel             int64\n",
              "TotalWorkingYears            int64\n",
              "TrainingTimesLastYear        int64\n",
              "WorkLifeBalance              int64\n",
              "YearsAtCompany               int64\n",
              "YearsInCurrentRole           int64\n",
              "YearsSinceLastPromotion      int64\n",
              "YearsWithCurrManager         int64\n",
              "dtype: object"
            ],
            "text/html": [
              "<div>\n",
              "<style scoped>\n",
              "    .dataframe tbody tr th:only-of-type {\n",
              "        vertical-align: middle;\n",
              "    }\n",
              "\n",
              "    .dataframe tbody tr th {\n",
              "        vertical-align: top;\n",
              "    }\n",
              "\n",
              "    .dataframe thead th {\n",
              "        text-align: right;\n",
              "    }\n",
              "</style>\n",
              "<table border=\"1\" class=\"dataframe\">\n",
              "  <thead>\n",
              "    <tr style=\"text-align: right;\">\n",
              "      <th></th>\n",
              "      <th>0</th>\n",
              "    </tr>\n",
              "  </thead>\n",
              "  <tbody>\n",
              "    <tr>\n",
              "      <th>Age</th>\n",
              "      <td>int64</td>\n",
              "    </tr>\n",
              "    <tr>\n",
              "      <th>Attrition</th>\n",
              "      <td>object</td>\n",
              "    </tr>\n",
              "    <tr>\n",
              "      <th>BusinessTravel</th>\n",
              "      <td>object</td>\n",
              "    </tr>\n",
              "    <tr>\n",
              "      <th>DailyRate</th>\n",
              "      <td>int64</td>\n",
              "    </tr>\n",
              "    <tr>\n",
              "      <th>Department</th>\n",
              "      <td>object</td>\n",
              "    </tr>\n",
              "    <tr>\n",
              "      <th>DistanceFromHome</th>\n",
              "      <td>int64</td>\n",
              "    </tr>\n",
              "    <tr>\n",
              "      <th>Education</th>\n",
              "      <td>int64</td>\n",
              "    </tr>\n",
              "    <tr>\n",
              "      <th>EducationField</th>\n",
              "      <td>object</td>\n",
              "    </tr>\n",
              "    <tr>\n",
              "      <th>EmployeeCount</th>\n",
              "      <td>int64</td>\n",
              "    </tr>\n",
              "    <tr>\n",
              "      <th>EmployeeNumber</th>\n",
              "      <td>int64</td>\n",
              "    </tr>\n",
              "    <tr>\n",
              "      <th>EnvironmentSatisfaction</th>\n",
              "      <td>int64</td>\n",
              "    </tr>\n",
              "    <tr>\n",
              "      <th>Gender</th>\n",
              "      <td>object</td>\n",
              "    </tr>\n",
              "    <tr>\n",
              "      <th>HourlyRate</th>\n",
              "      <td>int64</td>\n",
              "    </tr>\n",
              "    <tr>\n",
              "      <th>JobInvolvement</th>\n",
              "      <td>int64</td>\n",
              "    </tr>\n",
              "    <tr>\n",
              "      <th>JobLevel</th>\n",
              "      <td>int64</td>\n",
              "    </tr>\n",
              "    <tr>\n",
              "      <th>JobRole</th>\n",
              "      <td>object</td>\n",
              "    </tr>\n",
              "    <tr>\n",
              "      <th>JobSatisfaction</th>\n",
              "      <td>int64</td>\n",
              "    </tr>\n",
              "    <tr>\n",
              "      <th>MaritalStatus</th>\n",
              "      <td>object</td>\n",
              "    </tr>\n",
              "    <tr>\n",
              "      <th>MonthlyIncome</th>\n",
              "      <td>int64</td>\n",
              "    </tr>\n",
              "    <tr>\n",
              "      <th>MonthlyRate</th>\n",
              "      <td>int64</td>\n",
              "    </tr>\n",
              "    <tr>\n",
              "      <th>NumCompaniesWorked</th>\n",
              "      <td>int64</td>\n",
              "    </tr>\n",
              "    <tr>\n",
              "      <th>Over18</th>\n",
              "      <td>object</td>\n",
              "    </tr>\n",
              "    <tr>\n",
              "      <th>OverTime</th>\n",
              "      <td>object</td>\n",
              "    </tr>\n",
              "    <tr>\n",
              "      <th>PercentSalaryHike</th>\n",
              "      <td>int64</td>\n",
              "    </tr>\n",
              "    <tr>\n",
              "      <th>PerformanceRating</th>\n",
              "      <td>int64</td>\n",
              "    </tr>\n",
              "    <tr>\n",
              "      <th>RelationshipSatisfaction</th>\n",
              "      <td>int64</td>\n",
              "    </tr>\n",
              "    <tr>\n",
              "      <th>StandardHours</th>\n",
              "      <td>int64</td>\n",
              "    </tr>\n",
              "    <tr>\n",
              "      <th>StockOptionLevel</th>\n",
              "      <td>int64</td>\n",
              "    </tr>\n",
              "    <tr>\n",
              "      <th>TotalWorkingYears</th>\n",
              "      <td>int64</td>\n",
              "    </tr>\n",
              "    <tr>\n",
              "      <th>TrainingTimesLastYear</th>\n",
              "      <td>int64</td>\n",
              "    </tr>\n",
              "    <tr>\n",
              "      <th>WorkLifeBalance</th>\n",
              "      <td>int64</td>\n",
              "    </tr>\n",
              "    <tr>\n",
              "      <th>YearsAtCompany</th>\n",
              "      <td>int64</td>\n",
              "    </tr>\n",
              "    <tr>\n",
              "      <th>YearsInCurrentRole</th>\n",
              "      <td>int64</td>\n",
              "    </tr>\n",
              "    <tr>\n",
              "      <th>YearsSinceLastPromotion</th>\n",
              "      <td>int64</td>\n",
              "    </tr>\n",
              "    <tr>\n",
              "      <th>YearsWithCurrManager</th>\n",
              "      <td>int64</td>\n",
              "    </tr>\n",
              "  </tbody>\n",
              "</table>\n",
              "</div><br><label><b>dtype:</b> object</label>"
            ]
          },
          "metadata": {},
          "execution_count": 10
        }
      ]
    },
    {
      "cell_type": "code",
      "source": [
        "# get the non numerical features\n",
        "for col in df.columns:\n",
        "    if df[col].dtype != 'int64':\n",
        "        print(f\"{col}: {df[col].dtype}\")"
      ],
      "metadata": {
        "colab": {
          "base_uri": "https://localhost:8080/"
        },
        "id": "YkHLV8vtsvp1",
        "outputId": "33f102f8-1bb8-4d77-8a12-33c55fef3a30"
      },
      "execution_count": 11,
      "outputs": [
        {
          "output_type": "stream",
          "name": "stdout",
          "text": [
            "Attrition: object\n",
            "BusinessTravel: object\n",
            "Department: object\n",
            "EducationField: object\n",
            "Gender: object\n",
            "JobRole: object\n",
            "MaritalStatus: object\n",
            "Over18: object\n",
            "OverTime: object\n"
          ]
        }
      ]
    },
    {
      "cell_type": "code",
      "metadata": {
        "colab": {
          "base_uri": "https://localhost:8080/"
        },
        "id": "98abd66e",
        "outputId": "e5ab46d7-6620-4ad7-9e6f-fc6b44a6bd0a"
      },
      "source": [
        "# get the unique values for each of the not numerical features\n",
        "for col in df.columns:\n",
        "    if df[col].dtype != 'int64':\n",
        "        print(f'{col:30}: {df[col].unique()}')"
      ],
      "execution_count": 12,
      "outputs": [
        {
          "output_type": "stream",
          "name": "stdout",
          "text": [
            "Attrition                     : ['Yes' 'No']\n",
            "BusinessTravel                : ['Travel_Rarely' 'Travel_Frequently' 'Non-Travel']\n",
            "Department                    : ['Sales' 'Research & Development' 'Human Resources']\n",
            "EducationField                : ['Life Sciences' 'Other' 'Medical' 'Marketing' 'Technical Degree'\n",
            " 'Human Resources']\n",
            "Gender                        : ['Female' 'Male']\n",
            "JobRole                       : ['Sales Executive' 'Research Scientist' 'Laboratory Technician'\n",
            " 'Manufacturing Director' 'Healthcare Representative' 'Manager'\n",
            " 'Sales Representative' 'Research Director' 'Human Resources']\n",
            "MaritalStatus                 : ['Single' 'Married' 'Divorced']\n",
            "Over18                        : ['Y']\n",
            "OverTime                      : ['Yes' 'No']\n"
          ]
        }
      ]
    },
    {
      "cell_type": "markdown",
      "source": [],
      "metadata": {
        "id": "8HS8cs-Qtlb1"
      }
    },
    {
      "cell_type": "markdown",
      "source": [
        "The following are binary features.\n",
        "We use Label Encoding: replace with 0,1 using a map() or replace({'No': 0, 'Yes': 1}) / replace({'Female': 0, 'Male': 1, })\n",
        "* Attrition\n",
        "* Gender\n",
        "* Over18       -->  technically we caould drop this column since it is all 'Y'                 \n",
        "* OverTime\n",
        "\n",
        "The remaning feature are multi-categorical.\n",
        "We use One-Hot Encoding with get_dummies() with drop_first=True to avoid multicollinearity\n"
      ],
      "metadata": {
        "id": "lx158BZKtnmd"
      }
    },
    {
      "cell_type": "code",
      "source": [
        "# label encoding\n",
        "df['Attrition'] = df['Attrition'].replace({'Yes': 1, 'No': 0})\n",
        "df['OverTime'] = df['OverTime'].replace({'Yes': 1, 'No': 0})\n",
        "df['Gender'] = df['Gender'].replace({'Male': 1, 'Female': 0})"
      ],
      "metadata": {
        "colab": {
          "base_uri": "https://localhost:8080/"
        },
        "id": "py-mTInks92q",
        "outputId": "009fb18d-0e99-4e2a-817b-d2676c4075ba"
      },
      "execution_count": 13,
      "outputs": [
        {
          "output_type": "stream",
          "name": "stderr",
          "text": [
            "/tmp/ipython-input-4090456428.py:2: FutureWarning: Downcasting behavior in `replace` is deprecated and will be removed in a future version. To retain the old behavior, explicitly call `result.infer_objects(copy=False)`. To opt-in to the future behavior, set `pd.set_option('future.no_silent_downcasting', True)`\n",
            "  df['Attrition'] = df['Attrition'].replace({'Yes': 1, 'No': 0})\n",
            "/tmp/ipython-input-4090456428.py:3: FutureWarning: Downcasting behavior in `replace` is deprecated and will be removed in a future version. To retain the old behavior, explicitly call `result.infer_objects(copy=False)`. To opt-in to the future behavior, set `pd.set_option('future.no_silent_downcasting', True)`\n",
            "  df['OverTime'] = df['OverTime'].replace({'Yes': 1, 'No': 0})\n",
            "/tmp/ipython-input-4090456428.py:4: FutureWarning: Downcasting behavior in `replace` is deprecated and will be removed in a future version. To retain the old behavior, explicitly call `result.infer_objects(copy=False)`. To opt-in to the future behavior, set `pd.set_option('future.no_silent_downcasting', True)`\n",
            "  df['Gender'] = df['Gender'].replace({'Male': 1, 'Female': 0})\n"
          ]
        }
      ]
    },
    {
      "cell_type": "code",
      "source": [
        "# one-hot encoding\n",
        "df = pd.get_dummies(df, columns=[\n",
        "    'BusinessTravel',\n",
        "    'Department',\n",
        "    'EducationField',\n",
        "    'JobRole',\n",
        "    'MaritalStatus'\n",
        "], drop_first=True)"
      ],
      "metadata": {
        "id": "RocNrHAOvtSs"
      },
      "execution_count": 14,
      "outputs": []
    },
    {
      "cell_type": "code",
      "source": [
        "# drop this colun since not signicative\n",
        "#df = df.drop('Over18', axis=1)\n",
        "# see below, question 7"
      ],
      "metadata": {
        "id": "aynXMXFJv2Kj"
      },
      "execution_count": 15,
      "outputs": []
    },
    {
      "cell_type": "code",
      "source": [
        "# check if all features are numeric / boolean\n",
        "df.dtypes"
      ],
      "metadata": {
        "colab": {
          "base_uri": "https://localhost:8080/",
          "height": 1000
        },
        "id": "czcKiubtw2Az",
        "outputId": "3ad5afd8-324b-4bc8-f5f2-c79aef13e79d"
      },
      "execution_count": 16,
      "outputs": [
        {
          "output_type": "execute_result",
          "data": {
            "text/plain": [
              "Age                                   int64\n",
              "Attrition                             int64\n",
              "DailyRate                             int64\n",
              "DistanceFromHome                      int64\n",
              "Education                             int64\n",
              "EmployeeCount                         int64\n",
              "EmployeeNumber                        int64\n",
              "EnvironmentSatisfaction               int64\n",
              "Gender                                int64\n",
              "HourlyRate                            int64\n",
              "JobInvolvement                        int64\n",
              "JobLevel                              int64\n",
              "JobSatisfaction                       int64\n",
              "MonthlyIncome                         int64\n",
              "MonthlyRate                           int64\n",
              "NumCompaniesWorked                    int64\n",
              "Over18                               object\n",
              "OverTime                              int64\n",
              "PercentSalaryHike                     int64\n",
              "PerformanceRating                     int64\n",
              "RelationshipSatisfaction              int64\n",
              "StandardHours                         int64\n",
              "StockOptionLevel                      int64\n",
              "TotalWorkingYears                     int64\n",
              "TrainingTimesLastYear                 int64\n",
              "WorkLifeBalance                       int64\n",
              "YearsAtCompany                        int64\n",
              "YearsInCurrentRole                    int64\n",
              "YearsSinceLastPromotion               int64\n",
              "YearsWithCurrManager                  int64\n",
              "BusinessTravel_Travel_Frequently       bool\n",
              "BusinessTravel_Travel_Rarely           bool\n",
              "Department_Research & Development      bool\n",
              "Department_Sales                       bool\n",
              "EducationField_Life Sciences           bool\n",
              "EducationField_Marketing               bool\n",
              "EducationField_Medical                 bool\n",
              "EducationField_Other                   bool\n",
              "EducationField_Technical Degree        bool\n",
              "JobRole_Human Resources                bool\n",
              "JobRole_Laboratory Technician          bool\n",
              "JobRole_Manager                        bool\n",
              "JobRole_Manufacturing Director         bool\n",
              "JobRole_Research Director              bool\n",
              "JobRole_Research Scientist             bool\n",
              "JobRole_Sales Executive                bool\n",
              "JobRole_Sales Representative           bool\n",
              "MaritalStatus_Married                  bool\n",
              "MaritalStatus_Single                   bool\n",
              "dtype: object"
            ],
            "text/html": [
              "<div>\n",
              "<style scoped>\n",
              "    .dataframe tbody tr th:only-of-type {\n",
              "        vertical-align: middle;\n",
              "    }\n",
              "\n",
              "    .dataframe tbody tr th {\n",
              "        vertical-align: top;\n",
              "    }\n",
              "\n",
              "    .dataframe thead th {\n",
              "        text-align: right;\n",
              "    }\n",
              "</style>\n",
              "<table border=\"1\" class=\"dataframe\">\n",
              "  <thead>\n",
              "    <tr style=\"text-align: right;\">\n",
              "      <th></th>\n",
              "      <th>0</th>\n",
              "    </tr>\n",
              "  </thead>\n",
              "  <tbody>\n",
              "    <tr>\n",
              "      <th>Age</th>\n",
              "      <td>int64</td>\n",
              "    </tr>\n",
              "    <tr>\n",
              "      <th>Attrition</th>\n",
              "      <td>int64</td>\n",
              "    </tr>\n",
              "    <tr>\n",
              "      <th>DailyRate</th>\n",
              "      <td>int64</td>\n",
              "    </tr>\n",
              "    <tr>\n",
              "      <th>DistanceFromHome</th>\n",
              "      <td>int64</td>\n",
              "    </tr>\n",
              "    <tr>\n",
              "      <th>Education</th>\n",
              "      <td>int64</td>\n",
              "    </tr>\n",
              "    <tr>\n",
              "      <th>EmployeeCount</th>\n",
              "      <td>int64</td>\n",
              "    </tr>\n",
              "    <tr>\n",
              "      <th>EmployeeNumber</th>\n",
              "      <td>int64</td>\n",
              "    </tr>\n",
              "    <tr>\n",
              "      <th>EnvironmentSatisfaction</th>\n",
              "      <td>int64</td>\n",
              "    </tr>\n",
              "    <tr>\n",
              "      <th>Gender</th>\n",
              "      <td>int64</td>\n",
              "    </tr>\n",
              "    <tr>\n",
              "      <th>HourlyRate</th>\n",
              "      <td>int64</td>\n",
              "    </tr>\n",
              "    <tr>\n",
              "      <th>JobInvolvement</th>\n",
              "      <td>int64</td>\n",
              "    </tr>\n",
              "    <tr>\n",
              "      <th>JobLevel</th>\n",
              "      <td>int64</td>\n",
              "    </tr>\n",
              "    <tr>\n",
              "      <th>JobSatisfaction</th>\n",
              "      <td>int64</td>\n",
              "    </tr>\n",
              "    <tr>\n",
              "      <th>MonthlyIncome</th>\n",
              "      <td>int64</td>\n",
              "    </tr>\n",
              "    <tr>\n",
              "      <th>MonthlyRate</th>\n",
              "      <td>int64</td>\n",
              "    </tr>\n",
              "    <tr>\n",
              "      <th>NumCompaniesWorked</th>\n",
              "      <td>int64</td>\n",
              "    </tr>\n",
              "    <tr>\n",
              "      <th>Over18</th>\n",
              "      <td>object</td>\n",
              "    </tr>\n",
              "    <tr>\n",
              "      <th>OverTime</th>\n",
              "      <td>int64</td>\n",
              "    </tr>\n",
              "    <tr>\n",
              "      <th>PercentSalaryHike</th>\n",
              "      <td>int64</td>\n",
              "    </tr>\n",
              "    <tr>\n",
              "      <th>PerformanceRating</th>\n",
              "      <td>int64</td>\n",
              "    </tr>\n",
              "    <tr>\n",
              "      <th>RelationshipSatisfaction</th>\n",
              "      <td>int64</td>\n",
              "    </tr>\n",
              "    <tr>\n",
              "      <th>StandardHours</th>\n",
              "      <td>int64</td>\n",
              "    </tr>\n",
              "    <tr>\n",
              "      <th>StockOptionLevel</th>\n",
              "      <td>int64</td>\n",
              "    </tr>\n",
              "    <tr>\n",
              "      <th>TotalWorkingYears</th>\n",
              "      <td>int64</td>\n",
              "    </tr>\n",
              "    <tr>\n",
              "      <th>TrainingTimesLastYear</th>\n",
              "      <td>int64</td>\n",
              "    </tr>\n",
              "    <tr>\n",
              "      <th>WorkLifeBalance</th>\n",
              "      <td>int64</td>\n",
              "    </tr>\n",
              "    <tr>\n",
              "      <th>YearsAtCompany</th>\n",
              "      <td>int64</td>\n",
              "    </tr>\n",
              "    <tr>\n",
              "      <th>YearsInCurrentRole</th>\n",
              "      <td>int64</td>\n",
              "    </tr>\n",
              "    <tr>\n",
              "      <th>YearsSinceLastPromotion</th>\n",
              "      <td>int64</td>\n",
              "    </tr>\n",
              "    <tr>\n",
              "      <th>YearsWithCurrManager</th>\n",
              "      <td>int64</td>\n",
              "    </tr>\n",
              "    <tr>\n",
              "      <th>BusinessTravel_Travel_Frequently</th>\n",
              "      <td>bool</td>\n",
              "    </tr>\n",
              "    <tr>\n",
              "      <th>BusinessTravel_Travel_Rarely</th>\n",
              "      <td>bool</td>\n",
              "    </tr>\n",
              "    <tr>\n",
              "      <th>Department_Research &amp; Development</th>\n",
              "      <td>bool</td>\n",
              "    </tr>\n",
              "    <tr>\n",
              "      <th>Department_Sales</th>\n",
              "      <td>bool</td>\n",
              "    </tr>\n",
              "    <tr>\n",
              "      <th>EducationField_Life Sciences</th>\n",
              "      <td>bool</td>\n",
              "    </tr>\n",
              "    <tr>\n",
              "      <th>EducationField_Marketing</th>\n",
              "      <td>bool</td>\n",
              "    </tr>\n",
              "    <tr>\n",
              "      <th>EducationField_Medical</th>\n",
              "      <td>bool</td>\n",
              "    </tr>\n",
              "    <tr>\n",
              "      <th>EducationField_Other</th>\n",
              "      <td>bool</td>\n",
              "    </tr>\n",
              "    <tr>\n",
              "      <th>EducationField_Technical Degree</th>\n",
              "      <td>bool</td>\n",
              "    </tr>\n",
              "    <tr>\n",
              "      <th>JobRole_Human Resources</th>\n",
              "      <td>bool</td>\n",
              "    </tr>\n",
              "    <tr>\n",
              "      <th>JobRole_Laboratory Technician</th>\n",
              "      <td>bool</td>\n",
              "    </tr>\n",
              "    <tr>\n",
              "      <th>JobRole_Manager</th>\n",
              "      <td>bool</td>\n",
              "    </tr>\n",
              "    <tr>\n",
              "      <th>JobRole_Manufacturing Director</th>\n",
              "      <td>bool</td>\n",
              "    </tr>\n",
              "    <tr>\n",
              "      <th>JobRole_Research Director</th>\n",
              "      <td>bool</td>\n",
              "    </tr>\n",
              "    <tr>\n",
              "      <th>JobRole_Research Scientist</th>\n",
              "      <td>bool</td>\n",
              "    </tr>\n",
              "    <tr>\n",
              "      <th>JobRole_Sales Executive</th>\n",
              "      <td>bool</td>\n",
              "    </tr>\n",
              "    <tr>\n",
              "      <th>JobRole_Sales Representative</th>\n",
              "      <td>bool</td>\n",
              "    </tr>\n",
              "    <tr>\n",
              "      <th>MaritalStatus_Married</th>\n",
              "      <td>bool</td>\n",
              "    </tr>\n",
              "    <tr>\n",
              "      <th>MaritalStatus_Single</th>\n",
              "      <td>bool</td>\n",
              "    </tr>\n",
              "  </tbody>\n",
              "</table>\n",
              "</div><br><label><b>dtype:</b> object</label>"
            ]
          },
          "metadata": {},
          "execution_count": 16
        }
      ]
    },
    {
      "cell_type": "markdown",
      "source": [],
      "metadata": {
        "id": "Vju5FXPQxO_l"
      }
    },
    {
      "cell_type": "markdown",
      "source": [
        "Q7. Drop irrelevant columns like EmployeeNumber, Over18, and EmployeeCount. Why?"
      ],
      "metadata": {
        "id": "iGqhgX5_xOm3"
      }
    },
    {
      "cell_type": "code",
      "source": [
        "# drop not signicative features\n",
        "df = df.drop('EmployeeNumber', axis=1)\n",
        "df = df.drop('EmployeeCount', axis=1)\n",
        "df = df.drop('Over18', axis=1)"
      ],
      "metadata": {
        "id": "UW1t5_jjxXaH"
      },
      "execution_count": 17,
      "outputs": []
    },
    {
      "cell_type": "markdown",
      "source": [
        "These three features are not significative. EmployeeNumber since an ID, EmployeeCount a count and Over18 since all values are the same 'Y'"
      ],
      "metadata": {
        "id": "YLeDAcEqx6-U"
      }
    },
    {
      "cell_type": "markdown",
      "source": [
        "Q8. Select meaningful features for prediction (at least 8–10). Which ones did you choose and why?"
      ],
      "metadata": {
        "id": "cwJyEsEyyCGC"
      }
    },
    {
      "cell_type": "code",
      "source": [
        "features = ['Age', 'DailyRate', 'DistanceFromHome', 'Education',\n",
        "       'EnvironmentSatisfaction', 'Gender', 'HourlyRate', 'JobInvolvement',\n",
        "       'JobLevel', 'JobSatisfaction', 'MonthlyIncome', 'MonthlyRate',\n",
        "       'NumCompaniesWorked', 'OverTime', 'PercentSalaryHike',\n",
        "       'PerformanceRating', 'RelationshipSatisfaction', 'StandardHours',\n",
        "       'StockOptionLevel', 'TotalWorkingYears', 'TrainingTimesLastYear',\n",
        "       'WorkLifeBalance', 'YearsAtCompany', 'YearsInCurrentRole',\n",
        "       'YearsSinceLastPromotion', 'YearsWithCurrManager',\n",
        "       'BusinessTravel_Travel_Frequently', 'BusinessTravel_Travel_Rarely',\n",
        "       'Department_Research & Development', 'Department_Sales',\n",
        "       'EducationField_Life Sciences', 'EducationField_Marketing',\n",
        "       'EducationField_Medical', 'EducationField_Other',\n",
        "       'EducationField_Technical Degree', 'JobRole_Human Resources',\n",
        "       'JobRole_Laboratory Technician', 'JobRole_Manager',\n",
        "       'JobRole_Manufacturing Director', 'JobRole_Research Director',\n",
        "       'JobRole_Research Scientist', 'JobRole_Sales Executive',\n",
        "       'JobRole_Sales Representative', 'MaritalStatus_Married',\n",
        "       'MaritalStatus_Single']"
      ],
      "metadata": {
        "id": "nkVdA-m6x8KS"
      },
      "execution_count": 18,
      "outputs": []
    },
    {
      "cell_type": "markdown",
      "source": [
        "I have chosen all of them, since all contribute with different weights to a better accuracy"
      ],
      "metadata": {
        "id": "NUyyI_UkzZSj"
      }
    },
    {
      "cell_type": "markdown",
      "source": [
        "Q9. Split the dataset into feature matrix X and target variable y"
      ],
      "metadata": {
        "id": "smXCxEl3zt7k"
      }
    },
    {
      "cell_type": "code",
      "source": [
        "# extract features and target\n",
        "# Attrition is our target\n",
        "X = df[features]\n",
        "y = df['Attrition']\n",
        "X.sample(5)"
      ],
      "metadata": {
        "colab": {
          "base_uri": "https://localhost:8080/",
          "height": 273
        },
        "id": "7crJZ_fvxqqF",
        "outputId": "fae22ff5-8ec9-4a1c-aa0a-1e275689b0f0"
      },
      "execution_count": 19,
      "outputs": [
        {
          "output_type": "execute_result",
          "data": {
            "text/plain": [
              "      Age  DailyRate  DistanceFromHome  Education  EnvironmentSatisfaction  \\\n",
              "73     32        548                 1          3                        2   \n",
              "800    28       1009                 1          3                        1   \n",
              "920    34        135                19          3                        3   \n",
              "1085   31        561                 3          3                        4   \n",
              "17     22       1123                16          2                        4   \n",
              "\n",
              "      Gender  HourlyRate  JobInvolvement  JobLevel  JobSatisfaction  ...  \\\n",
              "73         1          66               3         2                2  ...   \n",
              "800        1          45               2         1                2  ...   \n",
              "920        0          46               3         2                2  ...   \n",
              "1085       0          33               3         1                3  ...   \n",
              "17         1          96               4         1                4  ...   \n",
              "\n",
              "      JobRole_Human Resources  JobRole_Laboratory Technician  JobRole_Manager  \\\n",
              "73                      False                          False            False   \n",
              "800                     False                           True            False   \n",
              "920                     False                           True            False   \n",
              "1085                    False                          False            False   \n",
              "17                      False                           True            False   \n",
              "\n",
              "      JobRole_Manufacturing Director  JobRole_Research Director  \\\n",
              "73                             False                      False   \n",
              "800                            False                      False   \n",
              "920                            False                      False   \n",
              "1085                           False                      False   \n",
              "17                             False                      False   \n",
              "\n",
              "      JobRole_Research Scientist  JobRole_Sales Executive  \\\n",
              "73                          True                    False   \n",
              "800                        False                    False   \n",
              "920                        False                    False   \n",
              "1085                        True                    False   \n",
              "17                         False                    False   \n",
              "\n",
              "      JobRole_Sales Representative  MaritalStatus_Married  \\\n",
              "73                           False                   True   \n",
              "800                          False                  False   \n",
              "920                          False                  False   \n",
              "1085                         False                  False   \n",
              "17                           False                  False   \n",
              "\n",
              "      MaritalStatus_Single  \n",
              "73                   False  \n",
              "800                  False  \n",
              "920                  False  \n",
              "1085                  True  \n",
              "17                   False  \n",
              "\n",
              "[5 rows x 45 columns]"
            ],
            "text/html": [
              "\n",
              "  <div id=\"df-89ca446d-945d-4d92-b820-8db99ef8ef50\" class=\"colab-df-container\">\n",
              "    <div>\n",
              "<style scoped>\n",
              "    .dataframe tbody tr th:only-of-type {\n",
              "        vertical-align: middle;\n",
              "    }\n",
              "\n",
              "    .dataframe tbody tr th {\n",
              "        vertical-align: top;\n",
              "    }\n",
              "\n",
              "    .dataframe thead th {\n",
              "        text-align: right;\n",
              "    }\n",
              "</style>\n",
              "<table border=\"1\" class=\"dataframe\">\n",
              "  <thead>\n",
              "    <tr style=\"text-align: right;\">\n",
              "      <th></th>\n",
              "      <th>Age</th>\n",
              "      <th>DailyRate</th>\n",
              "      <th>DistanceFromHome</th>\n",
              "      <th>Education</th>\n",
              "      <th>EnvironmentSatisfaction</th>\n",
              "      <th>Gender</th>\n",
              "      <th>HourlyRate</th>\n",
              "      <th>JobInvolvement</th>\n",
              "      <th>JobLevel</th>\n",
              "      <th>JobSatisfaction</th>\n",
              "      <th>...</th>\n",
              "      <th>JobRole_Human Resources</th>\n",
              "      <th>JobRole_Laboratory Technician</th>\n",
              "      <th>JobRole_Manager</th>\n",
              "      <th>JobRole_Manufacturing Director</th>\n",
              "      <th>JobRole_Research Director</th>\n",
              "      <th>JobRole_Research Scientist</th>\n",
              "      <th>JobRole_Sales Executive</th>\n",
              "      <th>JobRole_Sales Representative</th>\n",
              "      <th>MaritalStatus_Married</th>\n",
              "      <th>MaritalStatus_Single</th>\n",
              "    </tr>\n",
              "  </thead>\n",
              "  <tbody>\n",
              "    <tr>\n",
              "      <th>73</th>\n",
              "      <td>32</td>\n",
              "      <td>548</td>\n",
              "      <td>1</td>\n",
              "      <td>3</td>\n",
              "      <td>2</td>\n",
              "      <td>1</td>\n",
              "      <td>66</td>\n",
              "      <td>3</td>\n",
              "      <td>2</td>\n",
              "      <td>2</td>\n",
              "      <td>...</td>\n",
              "      <td>False</td>\n",
              "      <td>False</td>\n",
              "      <td>False</td>\n",
              "      <td>False</td>\n",
              "      <td>False</td>\n",
              "      <td>True</td>\n",
              "      <td>False</td>\n",
              "      <td>False</td>\n",
              "      <td>True</td>\n",
              "      <td>False</td>\n",
              "    </tr>\n",
              "    <tr>\n",
              "      <th>800</th>\n",
              "      <td>28</td>\n",
              "      <td>1009</td>\n",
              "      <td>1</td>\n",
              "      <td>3</td>\n",
              "      <td>1</td>\n",
              "      <td>1</td>\n",
              "      <td>45</td>\n",
              "      <td>2</td>\n",
              "      <td>1</td>\n",
              "      <td>2</td>\n",
              "      <td>...</td>\n",
              "      <td>False</td>\n",
              "      <td>True</td>\n",
              "      <td>False</td>\n",
              "      <td>False</td>\n",
              "      <td>False</td>\n",
              "      <td>False</td>\n",
              "      <td>False</td>\n",
              "      <td>False</td>\n",
              "      <td>False</td>\n",
              "      <td>False</td>\n",
              "    </tr>\n",
              "    <tr>\n",
              "      <th>920</th>\n",
              "      <td>34</td>\n",
              "      <td>135</td>\n",
              "      <td>19</td>\n",
              "      <td>3</td>\n",
              "      <td>3</td>\n",
              "      <td>0</td>\n",
              "      <td>46</td>\n",
              "      <td>3</td>\n",
              "      <td>2</td>\n",
              "      <td>2</td>\n",
              "      <td>...</td>\n",
              "      <td>False</td>\n",
              "      <td>True</td>\n",
              "      <td>False</td>\n",
              "      <td>False</td>\n",
              "      <td>False</td>\n",
              "      <td>False</td>\n",
              "      <td>False</td>\n",
              "      <td>False</td>\n",
              "      <td>False</td>\n",
              "      <td>False</td>\n",
              "    </tr>\n",
              "    <tr>\n",
              "      <th>1085</th>\n",
              "      <td>31</td>\n",
              "      <td>561</td>\n",
              "      <td>3</td>\n",
              "      <td>3</td>\n",
              "      <td>4</td>\n",
              "      <td>0</td>\n",
              "      <td>33</td>\n",
              "      <td>3</td>\n",
              "      <td>1</td>\n",
              "      <td>3</td>\n",
              "      <td>...</td>\n",
              "      <td>False</td>\n",
              "      <td>False</td>\n",
              "      <td>False</td>\n",
              "      <td>False</td>\n",
              "      <td>False</td>\n",
              "      <td>True</td>\n",
              "      <td>False</td>\n",
              "      <td>False</td>\n",
              "      <td>False</td>\n",
              "      <td>True</td>\n",
              "    </tr>\n",
              "    <tr>\n",
              "      <th>17</th>\n",
              "      <td>22</td>\n",
              "      <td>1123</td>\n",
              "      <td>16</td>\n",
              "      <td>2</td>\n",
              "      <td>4</td>\n",
              "      <td>1</td>\n",
              "      <td>96</td>\n",
              "      <td>4</td>\n",
              "      <td>1</td>\n",
              "      <td>4</td>\n",
              "      <td>...</td>\n",
              "      <td>False</td>\n",
              "      <td>True</td>\n",
              "      <td>False</td>\n",
              "      <td>False</td>\n",
              "      <td>False</td>\n",
              "      <td>False</td>\n",
              "      <td>False</td>\n",
              "      <td>False</td>\n",
              "      <td>False</td>\n",
              "      <td>False</td>\n",
              "    </tr>\n",
              "  </tbody>\n",
              "</table>\n",
              "<p>5 rows × 45 columns</p>\n",
              "</div>\n",
              "    <div class=\"colab-df-buttons\">\n",
              "\n",
              "  <div class=\"colab-df-container\">\n",
              "    <button class=\"colab-df-convert\" onclick=\"convertToInteractive('df-89ca446d-945d-4d92-b820-8db99ef8ef50')\"\n",
              "            title=\"Convert this dataframe to an interactive table.\"\n",
              "            style=\"display:none;\">\n",
              "\n",
              "  <svg xmlns=\"http://www.w3.org/2000/svg\" height=\"24px\" viewBox=\"0 -960 960 960\">\n",
              "    <path d=\"M120-120v-720h720v720H120Zm60-500h600v-160H180v160Zm220 220h160v-160H400v160Zm0 220h160v-160H400v160ZM180-400h160v-160H180v160Zm440 0h160v-160H620v160ZM180-180h160v-160H180v160Zm440 0h160v-160H620v160Z\"/>\n",
              "  </svg>\n",
              "    </button>\n",
              "\n",
              "  <style>\n",
              "    .colab-df-container {\n",
              "      display:flex;\n",
              "      gap: 12px;\n",
              "    }\n",
              "\n",
              "    .colab-df-convert {\n",
              "      background-color: #E8F0FE;\n",
              "      border: none;\n",
              "      border-radius: 50%;\n",
              "      cursor: pointer;\n",
              "      display: none;\n",
              "      fill: #1967D2;\n",
              "      height: 32px;\n",
              "      padding: 0 0 0 0;\n",
              "      width: 32px;\n",
              "    }\n",
              "\n",
              "    .colab-df-convert:hover {\n",
              "      background-color: #E2EBFA;\n",
              "      box-shadow: 0px 1px 2px rgba(60, 64, 67, 0.3), 0px 1px 3px 1px rgba(60, 64, 67, 0.15);\n",
              "      fill: #174EA6;\n",
              "    }\n",
              "\n",
              "    .colab-df-buttons div {\n",
              "      margin-bottom: 4px;\n",
              "    }\n",
              "\n",
              "    [theme=dark] .colab-df-convert {\n",
              "      background-color: #3B4455;\n",
              "      fill: #D2E3FC;\n",
              "    }\n",
              "\n",
              "    [theme=dark] .colab-df-convert:hover {\n",
              "      background-color: #434B5C;\n",
              "      box-shadow: 0px 1px 3px 1px rgba(0, 0, 0, 0.15);\n",
              "      filter: drop-shadow(0px 1px 2px rgba(0, 0, 0, 0.3));\n",
              "      fill: #FFFFFF;\n",
              "    }\n",
              "  </style>\n",
              "\n",
              "    <script>\n",
              "      const buttonEl =\n",
              "        document.querySelector('#df-89ca446d-945d-4d92-b820-8db99ef8ef50 button.colab-df-convert');\n",
              "      buttonEl.style.display =\n",
              "        google.colab.kernel.accessAllowed ? 'block' : 'none';\n",
              "\n",
              "      async function convertToInteractive(key) {\n",
              "        const element = document.querySelector('#df-89ca446d-945d-4d92-b820-8db99ef8ef50');\n",
              "        const dataTable =\n",
              "          await google.colab.kernel.invokeFunction('convertToInteractive',\n",
              "                                                    [key], {});\n",
              "        if (!dataTable) return;\n",
              "\n",
              "        const docLinkHtml = 'Like what you see? Visit the ' +\n",
              "          '<a target=\"_blank\" href=https://colab.research.google.com/notebooks/data_table.ipynb>data table notebook</a>'\n",
              "          + ' to learn more about interactive tables.';\n",
              "        element.innerHTML = '';\n",
              "        dataTable['output_type'] = 'display_data';\n",
              "        await google.colab.output.renderOutput(dataTable, element);\n",
              "        const docLink = document.createElement('div');\n",
              "        docLink.innerHTML = docLinkHtml;\n",
              "        element.appendChild(docLink);\n",
              "      }\n",
              "    </script>\n",
              "  </div>\n",
              "\n",
              "\n",
              "    <div id=\"df-9fdeec49-d1d9-479c-becb-9c24e9bd7b24\">\n",
              "      <button class=\"colab-df-quickchart\" onclick=\"quickchart('df-9fdeec49-d1d9-479c-becb-9c24e9bd7b24')\"\n",
              "                title=\"Suggest charts\"\n",
              "                style=\"display:none;\">\n",
              "\n",
              "<svg xmlns=\"http://www.w3.org/2000/svg\" height=\"24px\"viewBox=\"0 0 24 24\"\n",
              "     width=\"24px\">\n",
              "    <g>\n",
              "        <path d=\"M19 3H5c-1.1 0-2 .9-2 2v14c0 1.1.9 2 2 2h14c1.1 0 2-.9 2-2V5c0-1.1-.9-2-2-2zM9 17H7v-7h2v7zm4 0h-2V7h2v10zm4 0h-2v-4h2v4z\"/>\n",
              "    </g>\n",
              "</svg>\n",
              "      </button>\n",
              "\n",
              "<style>\n",
              "  .colab-df-quickchart {\n",
              "      --bg-color: #E8F0FE;\n",
              "      --fill-color: #1967D2;\n",
              "      --hover-bg-color: #E2EBFA;\n",
              "      --hover-fill-color: #174EA6;\n",
              "      --disabled-fill-color: #AAA;\n",
              "      --disabled-bg-color: #DDD;\n",
              "  }\n",
              "\n",
              "  [theme=dark] .colab-df-quickchart {\n",
              "      --bg-color: #3B4455;\n",
              "      --fill-color: #D2E3FC;\n",
              "      --hover-bg-color: #434B5C;\n",
              "      --hover-fill-color: #FFFFFF;\n",
              "      --disabled-bg-color: #3B4455;\n",
              "      --disabled-fill-color: #666;\n",
              "  }\n",
              "\n",
              "  .colab-df-quickchart {\n",
              "    background-color: var(--bg-color);\n",
              "    border: none;\n",
              "    border-radius: 50%;\n",
              "    cursor: pointer;\n",
              "    display: none;\n",
              "    fill: var(--fill-color);\n",
              "    height: 32px;\n",
              "    padding: 0;\n",
              "    width: 32px;\n",
              "  }\n",
              "\n",
              "  .colab-df-quickchart:hover {\n",
              "    background-color: var(--hover-bg-color);\n",
              "    box-shadow: 0 1px 2px rgba(60, 64, 67, 0.3), 0 1px 3px 1px rgba(60, 64, 67, 0.15);\n",
              "    fill: var(--button-hover-fill-color);\n",
              "  }\n",
              "\n",
              "  .colab-df-quickchart-complete:disabled,\n",
              "  .colab-df-quickchart-complete:disabled:hover {\n",
              "    background-color: var(--disabled-bg-color);\n",
              "    fill: var(--disabled-fill-color);\n",
              "    box-shadow: none;\n",
              "  }\n",
              "\n",
              "  .colab-df-spinner {\n",
              "    border: 2px solid var(--fill-color);\n",
              "    border-color: transparent;\n",
              "    border-bottom-color: var(--fill-color);\n",
              "    animation:\n",
              "      spin 1s steps(1) infinite;\n",
              "  }\n",
              "\n",
              "  @keyframes spin {\n",
              "    0% {\n",
              "      border-color: transparent;\n",
              "      border-bottom-color: var(--fill-color);\n",
              "      border-left-color: var(--fill-color);\n",
              "    }\n",
              "    20% {\n",
              "      border-color: transparent;\n",
              "      border-left-color: var(--fill-color);\n",
              "      border-top-color: var(--fill-color);\n",
              "    }\n",
              "    30% {\n",
              "      border-color: transparent;\n",
              "      border-left-color: var(--fill-color);\n",
              "      border-top-color: var(--fill-color);\n",
              "      border-right-color: var(--fill-color);\n",
              "    }\n",
              "    40% {\n",
              "      border-color: transparent;\n",
              "      border-right-color: var(--fill-color);\n",
              "      border-top-color: var(--fill-color);\n",
              "    }\n",
              "    60% {\n",
              "      border-color: transparent;\n",
              "      border-right-color: var(--fill-color);\n",
              "    }\n",
              "    80% {\n",
              "      border-color: transparent;\n",
              "      border-right-color: var(--fill-color);\n",
              "      border-bottom-color: var(--fill-color);\n",
              "    }\n",
              "    90% {\n",
              "      border-color: transparent;\n",
              "      border-bottom-color: var(--fill-color);\n",
              "    }\n",
              "  }\n",
              "</style>\n",
              "\n",
              "      <script>\n",
              "        async function quickchart(key) {\n",
              "          const quickchartButtonEl =\n",
              "            document.querySelector('#' + key + ' button');\n",
              "          quickchartButtonEl.disabled = true;  // To prevent multiple clicks.\n",
              "          quickchartButtonEl.classList.add('colab-df-spinner');\n",
              "          try {\n",
              "            const charts = await google.colab.kernel.invokeFunction(\n",
              "                'suggestCharts', [key], {});\n",
              "          } catch (error) {\n",
              "            console.error('Error during call to suggestCharts:', error);\n",
              "          }\n",
              "          quickchartButtonEl.classList.remove('colab-df-spinner');\n",
              "          quickchartButtonEl.classList.add('colab-df-quickchart-complete');\n",
              "        }\n",
              "        (() => {\n",
              "          let quickchartButtonEl =\n",
              "            document.querySelector('#df-9fdeec49-d1d9-479c-becb-9c24e9bd7b24 button');\n",
              "          quickchartButtonEl.style.display =\n",
              "            google.colab.kernel.accessAllowed ? 'block' : 'none';\n",
              "        })();\n",
              "      </script>\n",
              "    </div>\n",
              "\n",
              "    </div>\n",
              "  </div>\n"
            ],
            "application/vnd.google.colaboratory.intrinsic+json": {
              "type": "dataframe"
            }
          },
          "metadata": {},
          "execution_count": 19
        }
      ]
    },
    {
      "cell_type": "code",
      "source": [
        "y.sample(5)"
      ],
      "metadata": {
        "colab": {
          "base_uri": "https://localhost:8080/",
          "height": 241
        },
        "id": "8hbNElLrypCe",
        "outputId": "a7c8bf77-ccd7-4cd8-a425-abd8b872acd4"
      },
      "execution_count": 20,
      "outputs": [
        {
          "output_type": "execute_result",
          "data": {
            "text/plain": [
              "1087    0\n",
              "933     0\n",
              "216     1\n",
              "49      0\n",
              "1327    0\n",
              "Name: Attrition, dtype: int64"
            ],
            "text/html": [
              "<div>\n",
              "<style scoped>\n",
              "    .dataframe tbody tr th:only-of-type {\n",
              "        vertical-align: middle;\n",
              "    }\n",
              "\n",
              "    .dataframe tbody tr th {\n",
              "        vertical-align: top;\n",
              "    }\n",
              "\n",
              "    .dataframe thead th {\n",
              "        text-align: right;\n",
              "    }\n",
              "</style>\n",
              "<table border=\"1\" class=\"dataframe\">\n",
              "  <thead>\n",
              "    <tr style=\"text-align: right;\">\n",
              "      <th></th>\n",
              "      <th>Attrition</th>\n",
              "    </tr>\n",
              "  </thead>\n",
              "  <tbody>\n",
              "    <tr>\n",
              "      <th>1087</th>\n",
              "      <td>0</td>\n",
              "    </tr>\n",
              "    <tr>\n",
              "      <th>933</th>\n",
              "      <td>0</td>\n",
              "    </tr>\n",
              "    <tr>\n",
              "      <th>216</th>\n",
              "      <td>1</td>\n",
              "    </tr>\n",
              "    <tr>\n",
              "      <th>49</th>\n",
              "      <td>0</td>\n",
              "    </tr>\n",
              "    <tr>\n",
              "      <th>1327</th>\n",
              "      <td>0</td>\n",
              "    </tr>\n",
              "  </tbody>\n",
              "</table>\n",
              "</div><br><label><b>dtype:</b> int64</label>"
            ]
          },
          "metadata": {},
          "execution_count": 20
        }
      ]
    },
    {
      "cell_type": "markdown",
      "source": [
        "Q10. Perform train-test split (e.g., 80% training, 20% testing)."
      ],
      "metadata": {
        "id": "0CdoGCW00A6X"
      }
    },
    {
      "cell_type": "code",
      "source": [
        "# train-test split at 80/20\n",
        "from sklearn.model_selection import train_test_split\n",
        "X_train, X_test, y_train, y_test = train_test_split(X, y, test_size=0.2, random_state=42)"
      ],
      "metadata": {
        "id": "PSvlSo1S0CFY"
      },
      "execution_count": 21,
      "outputs": []
    },
    {
      "cell_type": "code",
      "source": [
        "# check the shape\n",
        "X_train.shape"
      ],
      "metadata": {
        "colab": {
          "base_uri": "https://localhost:8080/"
        },
        "id": "CKS57Udb0cqC",
        "outputId": "0be88205-8f1b-4a92-9f0f-be4b768732ab"
      },
      "execution_count": 22,
      "outputs": [
        {
          "output_type": "execute_result",
          "data": {
            "text/plain": [
              "(1176, 45)"
            ]
          },
          "metadata": {},
          "execution_count": 22
        }
      ]
    },
    {
      "cell_type": "code",
      "source": [
        " X_test.shape"
      ],
      "metadata": {
        "colab": {
          "base_uri": "https://localhost:8080/"
        },
        "id": "0ZDTJYu80gKi",
        "outputId": "c8e91955-3256-4ede-85fa-7511b0420a43"
      },
      "execution_count": 23,
      "outputs": [
        {
          "output_type": "execute_result",
          "data": {
            "text/plain": [
              "(294, 45)"
            ]
          },
          "metadata": {},
          "execution_count": 23
        }
      ]
    },
    {
      "cell_type": "code",
      "source": [
        "y_train.shape"
      ],
      "metadata": {
        "colab": {
          "base_uri": "https://localhost:8080/"
        },
        "id": "0rSf4uW10imE",
        "outputId": "b0a27cf5-ddc2-4724-c444-6f2502c42fdd"
      },
      "execution_count": 24,
      "outputs": [
        {
          "output_type": "execute_result",
          "data": {
            "text/plain": [
              "(1176,)"
            ]
          },
          "metadata": {},
          "execution_count": 24
        }
      ]
    },
    {
      "cell_type": "code",
      "source": [
        "y_test.shape"
      ],
      "metadata": {
        "colab": {
          "base_uri": "https://localhost:8080/"
        },
        "id": "foEcqqLR0lN1",
        "outputId": "064c2afd-6982-4240-80d2-fb6ca4d51aa2"
      },
      "execution_count": 25,
      "outputs": [
        {
          "output_type": "execute_result",
          "data": {
            "text/plain": [
              "(294,)"
            ]
          },
          "metadata": {},
          "execution_count": 25
        }
      ]
    },
    {
      "cell_type": "markdown",
      "source": [
        "Q11. Apply feature scaling using StandardScaler. Why is this important for Logistic Regression?"
      ],
      "metadata": {
        "id": "uvgart0j0sDE"
      }
    },
    {
      "cell_type": "code",
      "source": [
        "from sklearn.preprocessing import StandardScaler\n",
        "\n",
        "scaler = StandardScaler()\n",
        "X_train_scaled = scaler.fit_transform(X_train)\n",
        "X_test_scaled = scaler.transform(X_test)"
      ],
      "metadata": {
        "id": "QCE2Lv5T0rI8"
      },
      "execution_count": 26,
      "outputs": []
    },
    {
      "cell_type": "code",
      "source": [
        "X_train_scaled"
      ],
      "metadata": {
        "colab": {
          "base_uri": "https://localhost:8080/"
        },
        "id": "1nSbmzj41B_n",
        "outputId": "7c4b651e-1dec-4915-cfb1-63ae0b0941cc"
      },
      "execution_count": 27,
      "outputs": [
        {
          "output_type": "execute_result",
          "data": {
            "text/plain": [
              "array([[-1.38855944, -1.10813858,  1.44039645, ..., -0.26099788,\n",
              "        -0.93733358, -0.66288195],\n",
              "       [-2.04073779, -1.2634814 , -0.52269928, ..., -0.26099788,\n",
              "        -0.93733358,  1.50856422],\n",
              "       [-0.84507748,  1.10364737,  1.31770296, ..., -0.26099788,\n",
              "        -0.93733358, -0.66288195],\n",
              "       ...,\n",
              "       [-1.60595222,  1.1258392 , -0.76808624, ..., -0.26099788,\n",
              "         1.06685604, -0.66288195],\n",
              "       [-0.84507748,  1.42666182,  0.45884859, ..., -0.26099788,\n",
              "         1.06685604, -0.66288195],\n",
              "       [ 1.43754676, -1.32019386, -0.03192534, ..., -0.26099788,\n",
              "         1.06685604, -0.66288195]])"
            ]
          },
          "metadata": {},
          "execution_count": 27
        }
      ]
    },
    {
      "cell_type": "code",
      "source": [
        "X_test_scaled"
      ],
      "metadata": {
        "colab": {
          "base_uri": "https://localhost:8080/"
        },
        "id": "wqyrh-jG1EeO",
        "outputId": "f1b3385f-125c-4bd5-ffac-4d4c16ae50eb"
      },
      "execution_count": 28,
      "outputs": [
        {
          "output_type": "execute_result",
          "data": {
            "text/plain": [
              "array([[-0.95377387,  0.16419314, -0.52269928, ..., -0.26099788,\n",
              "        -0.93733358,  1.50856422],\n",
              "       [ 1.76363593,  0.70172863,  0.45884859, ..., -0.26099788,\n",
              "        -0.93733358, -0.66288195],\n",
              "       [-1.38855944, -1.37937208,  1.56308993, ..., -0.26099788,\n",
              "         1.06685604, -0.66288195],\n",
              "       ...,\n",
              "       [ 1.43754676,  1.28857931,  2.29925083, ..., -0.26099788,\n",
              "         1.06685604, -0.66288195],\n",
              "       [ 0.02449366,  1.04940067,  0.09076814, ..., -0.26099788,\n",
              "        -0.93733358,  1.50856422],\n",
              "       [ 1.11145758, -1.35718025, -0.89077972, ..., -0.26099788,\n",
              "         1.06685604, -0.66288195]])"
            ]
          },
          "metadata": {},
          "execution_count": 28
        }
      ]
    },
    {
      "cell_type": "markdown",
      "source": [
        "Scaling is important since the different features are measure in different unit of measurement, but sklearn (and in general any algorithm) is not aware of the unit. additionally features should be comparable, otherwise the gradients vanish or explode"
      ],
      "metadata": {
        "id": "B54aTzFv0-vZ"
      }
    },
    {
      "cell_type": "markdown",
      "source": [
        "#Modeling & Evaluation#"
      ],
      "metadata": {
        "id": "BH1x84Q71MjL"
      }
    },
    {
      "cell_type": "markdown",
      "source": [
        "Q12. Train a Logistic Regression model and make predictions.\n"
      ],
      "metadata": {
        "id": "JBVqb_ac1PAf"
      }
    },
    {
      "cell_type": "code",
      "source": [
        "# Logistic regresson\n",
        "from sklearn.linear_model import LogisticRegression\n",
        "\n",
        "\n",
        "# training\n",
        "# note, since the target is categorical, no need to scale the target\n",
        "log_reg = LogisticRegression()\n",
        "log_reg.fit(X_train_scaled, y_train)\n",
        "\n",
        "# predict on the test split\n",
        "y_pred_lr = log_reg.predict(X_test_scaled)\n",
        "\n",
        "y_pred_lr"
      ],
      "metadata": {
        "colab": {
          "base_uri": "https://localhost:8080/"
        },
        "id": "p292jPzE1aim",
        "outputId": "7fd93031-55c4-4ac6-cc0f-428c42fc1425"
      },
      "execution_count": 29,
      "outputs": [
        {
          "output_type": "execute_result",
          "data": {
            "text/plain": [
              "array([0, 0, 0, 0, 0, 0, 0, 0, 0, 0, 1, 0, 0, 0, 0, 0, 0, 0, 0, 0, 1, 0,\n",
              "       0, 0, 0, 0, 0, 0, 0, 0, 0, 0, 0, 0, 1, 0, 0, 0, 1, 0, 0, 0, 0, 0,\n",
              "       1, 0, 1, 1, 1, 0, 0, 0, 0, 0, 0, 0, 0, 0, 0, 0, 0, 0, 0, 0, 0, 1,\n",
              "       0, 0, 0, 0, 0, 0, 0, 0, 0, 0, 0, 0, 0, 0, 0, 0, 0, 0, 0, 0, 0, 0,\n",
              "       0, 0, 0, 0, 1, 0, 0, 0, 0, 0, 0, 0, 0, 0, 0, 0, 0, 0, 0, 0, 0, 0,\n",
              "       1, 1, 0, 0, 0, 0, 0, 0, 0, 0, 0, 0, 0, 0, 1, 1, 0, 0, 0, 0, 0, 0,\n",
              "       0, 0, 0, 0, 0, 0, 0, 0, 1, 0, 0, 0, 0, 0, 0, 1, 0, 1, 0, 0, 0, 1,\n",
              "       0, 0, 0, 0, 0, 0, 0, 0, 0, 0, 0, 0, 0, 0, 0, 0, 0, 0, 1, 1, 0, 0,\n",
              "       0, 0, 0, 1, 0, 0, 0, 0, 0, 0, 0, 0, 0, 0, 0, 0, 0, 0, 0, 0, 0, 0,\n",
              "       0, 0, 0, 0, 0, 0, 0, 0, 0, 0, 0, 0, 0, 0, 0, 0, 0, 0, 0, 0, 1, 0,\n",
              "       0, 1, 0, 1, 0, 0, 0, 0, 0, 0, 1, 0, 0, 0, 1, 0, 0, 0, 0, 0, 0, 0,\n",
              "       1, 0, 0, 0, 0, 1, 0, 0, 0, 0, 1, 0, 0, 0, 0, 0, 1, 0, 0, 0, 0, 0,\n",
              "       0, 0, 0, 0, 0, 0, 0, 0, 0, 1, 0, 0, 0, 0, 0, 0, 0, 0, 0, 0, 0, 0,\n",
              "       0, 0, 0, 0, 0, 0, 0, 0])"
            ]
          },
          "metadata": {},
          "execution_count": 29
        }
      ]
    },
    {
      "cell_type": "markdown",
      "source": [],
      "metadata": {
        "id": "MRPLILu_1UbG"
      }
    },
    {
      "cell_type": "markdown",
      "source": [
        "Q13. Train a Decision Tree Classifier with a max_depth=4 and make predictions."
      ],
      "metadata": {
        "id": "NgiQcA2l1WQ_"
      }
    },
    {
      "cell_type": "code",
      "source": [
        "# Decision Tree Classifier\n",
        "from sklearn.tree import DecisionTreeClassifier\n",
        "\n",
        "# training\n",
        "# note Decision tree works on Gini inpurity or Cross Entropy, not on gradients\n",
        "# so no need of scaling the data\n",
        "dt_clf = DecisionTreeClassifier(max_depth=4, random_state=42)\n",
        "dt_clf.fit(X_train, y_train)\n",
        "\n",
        "# predict on the test split\n",
        "y_pred_dt = dt_clf.predict(X_test)\n",
        "\n",
        "y_pred_dt"
      ],
      "metadata": {
        "colab": {
          "base_uri": "https://localhost:8080/"
        },
        "id": "hLbBqHPf2WsO",
        "outputId": "b8d8c2d6-b25b-4126-8dce-8984b7753be7"
      },
      "execution_count": 30,
      "outputs": [
        {
          "output_type": "execute_result",
          "data": {
            "text/plain": [
              "array([0, 0, 1, 0, 0, 0, 0, 0, 0, 0, 0, 0, 0, 0, 0, 0, 0, 0, 0, 0, 0, 0,\n",
              "       0, 0, 0, 1, 0, 0, 0, 0, 0, 0, 0, 0, 0, 0, 0, 0, 0, 0, 0, 0, 0, 0,\n",
              "       0, 0, 0, 0, 0, 1, 0, 0, 0, 0, 0, 0, 0, 0, 0, 0, 0, 0, 0, 0, 0, 0,\n",
              "       0, 0, 0, 1, 0, 0, 0, 0, 0, 0, 0, 0, 0, 0, 0, 0, 0, 0, 0, 0, 0, 0,\n",
              "       0, 0, 0, 0, 0, 1, 0, 0, 0, 0, 0, 0, 0, 0, 0, 0, 0, 0, 0, 0, 0, 0,\n",
              "       0, 0, 0, 0, 1, 0, 0, 0, 0, 0, 0, 0, 0, 0, 0, 0, 0, 0, 0, 0, 0, 0,\n",
              "       0, 0, 0, 0, 0, 0, 0, 0, 1, 0, 0, 0, 0, 0, 0, 0, 0, 0, 0, 0, 0, 0,\n",
              "       0, 0, 0, 0, 0, 0, 0, 0, 0, 0, 0, 0, 0, 0, 0, 0, 0, 0, 0, 0, 0, 0,\n",
              "       0, 0, 0, 0, 0, 0, 0, 0, 0, 0, 0, 0, 0, 0, 0, 0, 0, 0, 0, 0, 0, 0,\n",
              "       0, 0, 0, 0, 0, 0, 0, 0, 0, 0, 0, 0, 0, 0, 0, 0, 0, 0, 0, 0, 0, 0,\n",
              "       0, 0, 0, 0, 0, 0, 0, 0, 0, 0, 0, 0, 0, 0, 0, 0, 0, 0, 0, 0, 0, 0,\n",
              "       0, 0, 0, 0, 0, 0, 0, 0, 0, 0, 1, 0, 0, 0, 0, 0, 0, 0, 0, 0, 0, 0,\n",
              "       0, 0, 0, 0, 0, 0, 0, 0, 0, 0, 0, 0, 0, 0, 0, 0, 0, 0, 0, 0, 0, 0,\n",
              "       0, 0, 0, 0, 0, 0, 0, 0])"
            ]
          },
          "metadata": {},
          "execution_count": 30
        }
      ]
    },
    {
      "cell_type": "code",
      "source": [
        "results_df = pd.DataFrame({\n",
        "    'y_test': y_test,\n",
        "    'y_pred_lr': y_pred_lr,\n",
        "    'y_pred_dt': y_pred_dt,\n",
        "    'lr_correct': y_pred_lr == y_test,\n",
        "    'dt_correct': y_pred_dt == y_test\n",
        "})\n",
        "\n",
        "results_df.head()"
      ],
      "metadata": {
        "colab": {
          "base_uri": "https://localhost:8080/",
          "height": 206
        },
        "id": "SGFjjhNN4K6u",
        "outputId": "058997e4-ae6a-4dee-901e-a3ef39a3962e"
      },
      "execution_count": 31,
      "outputs": [
        {
          "output_type": "execute_result",
          "data": {
            "text/plain": [
              "      y_test  y_pred_lr  y_pred_dt  lr_correct  dt_correct\n",
              "1041       0          0          0        True        True\n",
              "184        0          0          0        True        True\n",
              "1222       1          0          1       False        True\n",
              "67         0          0          0        True        True\n",
              "220        0          0          0        True        True"
            ],
            "text/html": [
              "\n",
              "  <div id=\"df-b1f6f46c-239f-42c6-9c95-e31b05216139\" class=\"colab-df-container\">\n",
              "    <div>\n",
              "<style scoped>\n",
              "    .dataframe tbody tr th:only-of-type {\n",
              "        vertical-align: middle;\n",
              "    }\n",
              "\n",
              "    .dataframe tbody tr th {\n",
              "        vertical-align: top;\n",
              "    }\n",
              "\n",
              "    .dataframe thead th {\n",
              "        text-align: right;\n",
              "    }\n",
              "</style>\n",
              "<table border=\"1\" class=\"dataframe\">\n",
              "  <thead>\n",
              "    <tr style=\"text-align: right;\">\n",
              "      <th></th>\n",
              "      <th>y_test</th>\n",
              "      <th>y_pred_lr</th>\n",
              "      <th>y_pred_dt</th>\n",
              "      <th>lr_correct</th>\n",
              "      <th>dt_correct</th>\n",
              "    </tr>\n",
              "  </thead>\n",
              "  <tbody>\n",
              "    <tr>\n",
              "      <th>1041</th>\n",
              "      <td>0</td>\n",
              "      <td>0</td>\n",
              "      <td>0</td>\n",
              "      <td>True</td>\n",
              "      <td>True</td>\n",
              "    </tr>\n",
              "    <tr>\n",
              "      <th>184</th>\n",
              "      <td>0</td>\n",
              "      <td>0</td>\n",
              "      <td>0</td>\n",
              "      <td>True</td>\n",
              "      <td>True</td>\n",
              "    </tr>\n",
              "    <tr>\n",
              "      <th>1222</th>\n",
              "      <td>1</td>\n",
              "      <td>0</td>\n",
              "      <td>1</td>\n",
              "      <td>False</td>\n",
              "      <td>True</td>\n",
              "    </tr>\n",
              "    <tr>\n",
              "      <th>67</th>\n",
              "      <td>0</td>\n",
              "      <td>0</td>\n",
              "      <td>0</td>\n",
              "      <td>True</td>\n",
              "      <td>True</td>\n",
              "    </tr>\n",
              "    <tr>\n",
              "      <th>220</th>\n",
              "      <td>0</td>\n",
              "      <td>0</td>\n",
              "      <td>0</td>\n",
              "      <td>True</td>\n",
              "      <td>True</td>\n",
              "    </tr>\n",
              "  </tbody>\n",
              "</table>\n",
              "</div>\n",
              "    <div class=\"colab-df-buttons\">\n",
              "\n",
              "  <div class=\"colab-df-container\">\n",
              "    <button class=\"colab-df-convert\" onclick=\"convertToInteractive('df-b1f6f46c-239f-42c6-9c95-e31b05216139')\"\n",
              "            title=\"Convert this dataframe to an interactive table.\"\n",
              "            style=\"display:none;\">\n",
              "\n",
              "  <svg xmlns=\"http://www.w3.org/2000/svg\" height=\"24px\" viewBox=\"0 -960 960 960\">\n",
              "    <path d=\"M120-120v-720h720v720H120Zm60-500h600v-160H180v160Zm220 220h160v-160H400v160Zm0 220h160v-160H400v160ZM180-400h160v-160H180v160Zm440 0h160v-160H620v160ZM180-180h160v-160H180v160Zm440 0h160v-160H620v160Z\"/>\n",
              "  </svg>\n",
              "    </button>\n",
              "\n",
              "  <style>\n",
              "    .colab-df-container {\n",
              "      display:flex;\n",
              "      gap: 12px;\n",
              "    }\n",
              "\n",
              "    .colab-df-convert {\n",
              "      background-color: #E8F0FE;\n",
              "      border: none;\n",
              "      border-radius: 50%;\n",
              "      cursor: pointer;\n",
              "      display: none;\n",
              "      fill: #1967D2;\n",
              "      height: 32px;\n",
              "      padding: 0 0 0 0;\n",
              "      width: 32px;\n",
              "    }\n",
              "\n",
              "    .colab-df-convert:hover {\n",
              "      background-color: #E2EBFA;\n",
              "      box-shadow: 0px 1px 2px rgba(60, 64, 67, 0.3), 0px 1px 3px 1px rgba(60, 64, 67, 0.15);\n",
              "      fill: #174EA6;\n",
              "    }\n",
              "\n",
              "    .colab-df-buttons div {\n",
              "      margin-bottom: 4px;\n",
              "    }\n",
              "\n",
              "    [theme=dark] .colab-df-convert {\n",
              "      background-color: #3B4455;\n",
              "      fill: #D2E3FC;\n",
              "    }\n",
              "\n",
              "    [theme=dark] .colab-df-convert:hover {\n",
              "      background-color: #434B5C;\n",
              "      box-shadow: 0px 1px 3px 1px rgba(0, 0, 0, 0.15);\n",
              "      filter: drop-shadow(0px 1px 2px rgba(0, 0, 0, 0.3));\n",
              "      fill: #FFFFFF;\n",
              "    }\n",
              "  </style>\n",
              "\n",
              "    <script>\n",
              "      const buttonEl =\n",
              "        document.querySelector('#df-b1f6f46c-239f-42c6-9c95-e31b05216139 button.colab-df-convert');\n",
              "      buttonEl.style.display =\n",
              "        google.colab.kernel.accessAllowed ? 'block' : 'none';\n",
              "\n",
              "      async function convertToInteractive(key) {\n",
              "        const element = document.querySelector('#df-b1f6f46c-239f-42c6-9c95-e31b05216139');\n",
              "        const dataTable =\n",
              "          await google.colab.kernel.invokeFunction('convertToInteractive',\n",
              "                                                    [key], {});\n",
              "        if (!dataTable) return;\n",
              "\n",
              "        const docLinkHtml = 'Like what you see? Visit the ' +\n",
              "          '<a target=\"_blank\" href=https://colab.research.google.com/notebooks/data_table.ipynb>data table notebook</a>'\n",
              "          + ' to learn more about interactive tables.';\n",
              "        element.innerHTML = '';\n",
              "        dataTable['output_type'] = 'display_data';\n",
              "        await google.colab.output.renderOutput(dataTable, element);\n",
              "        const docLink = document.createElement('div');\n",
              "        docLink.innerHTML = docLinkHtml;\n",
              "        element.appendChild(docLink);\n",
              "      }\n",
              "    </script>\n",
              "  </div>\n",
              "\n",
              "\n",
              "    <div id=\"df-03081174-951f-4d79-a16c-39207ff4dff3\">\n",
              "      <button class=\"colab-df-quickchart\" onclick=\"quickchart('df-03081174-951f-4d79-a16c-39207ff4dff3')\"\n",
              "                title=\"Suggest charts\"\n",
              "                style=\"display:none;\">\n",
              "\n",
              "<svg xmlns=\"http://www.w3.org/2000/svg\" height=\"24px\"viewBox=\"0 0 24 24\"\n",
              "     width=\"24px\">\n",
              "    <g>\n",
              "        <path d=\"M19 3H5c-1.1 0-2 .9-2 2v14c0 1.1.9 2 2 2h14c1.1 0 2-.9 2-2V5c0-1.1-.9-2-2-2zM9 17H7v-7h2v7zm4 0h-2V7h2v10zm4 0h-2v-4h2v4z\"/>\n",
              "    </g>\n",
              "</svg>\n",
              "      </button>\n",
              "\n",
              "<style>\n",
              "  .colab-df-quickchart {\n",
              "      --bg-color: #E8F0FE;\n",
              "      --fill-color: #1967D2;\n",
              "      --hover-bg-color: #E2EBFA;\n",
              "      --hover-fill-color: #174EA6;\n",
              "      --disabled-fill-color: #AAA;\n",
              "      --disabled-bg-color: #DDD;\n",
              "  }\n",
              "\n",
              "  [theme=dark] .colab-df-quickchart {\n",
              "      --bg-color: #3B4455;\n",
              "      --fill-color: #D2E3FC;\n",
              "      --hover-bg-color: #434B5C;\n",
              "      --hover-fill-color: #FFFFFF;\n",
              "      --disabled-bg-color: #3B4455;\n",
              "      --disabled-fill-color: #666;\n",
              "  }\n",
              "\n",
              "  .colab-df-quickchart {\n",
              "    background-color: var(--bg-color);\n",
              "    border: none;\n",
              "    border-radius: 50%;\n",
              "    cursor: pointer;\n",
              "    display: none;\n",
              "    fill: var(--fill-color);\n",
              "    height: 32px;\n",
              "    padding: 0;\n",
              "    width: 32px;\n",
              "  }\n",
              "\n",
              "  .colab-df-quickchart:hover {\n",
              "    background-color: var(--hover-bg-color);\n",
              "    box-shadow: 0 1px 2px rgba(60, 64, 67, 0.3), 0 1px 3px 1px rgba(60, 64, 67, 0.15);\n",
              "    fill: var(--button-hover-fill-color);\n",
              "  }\n",
              "\n",
              "  .colab-df-quickchart-complete:disabled,\n",
              "  .colab-df-quickchart-complete:disabled:hover {\n",
              "    background-color: var(--disabled-bg-color);\n",
              "    fill: var(--disabled-fill-color);\n",
              "    box-shadow: none;\n",
              "  }\n",
              "\n",
              "  .colab-df-spinner {\n",
              "    border: 2px solid var(--fill-color);\n",
              "    border-color: transparent;\n",
              "    border-bottom-color: var(--fill-color);\n",
              "    animation:\n",
              "      spin 1s steps(1) infinite;\n",
              "  }\n",
              "\n",
              "  @keyframes spin {\n",
              "    0% {\n",
              "      border-color: transparent;\n",
              "      border-bottom-color: var(--fill-color);\n",
              "      border-left-color: var(--fill-color);\n",
              "    }\n",
              "    20% {\n",
              "      border-color: transparent;\n",
              "      border-left-color: var(--fill-color);\n",
              "      border-top-color: var(--fill-color);\n",
              "    }\n",
              "    30% {\n",
              "      border-color: transparent;\n",
              "      border-left-color: var(--fill-color);\n",
              "      border-top-color: var(--fill-color);\n",
              "      border-right-color: var(--fill-color);\n",
              "    }\n",
              "    40% {\n",
              "      border-color: transparent;\n",
              "      border-right-color: var(--fill-color);\n",
              "      border-top-color: var(--fill-color);\n",
              "    }\n",
              "    60% {\n",
              "      border-color: transparent;\n",
              "      border-right-color: var(--fill-color);\n",
              "    }\n",
              "    80% {\n",
              "      border-color: transparent;\n",
              "      border-right-color: var(--fill-color);\n",
              "      border-bottom-color: var(--fill-color);\n",
              "    }\n",
              "    90% {\n",
              "      border-color: transparent;\n",
              "      border-bottom-color: var(--fill-color);\n",
              "    }\n",
              "  }\n",
              "</style>\n",
              "\n",
              "      <script>\n",
              "        async function quickchart(key) {\n",
              "          const quickchartButtonEl =\n",
              "            document.querySelector('#' + key + ' button');\n",
              "          quickchartButtonEl.disabled = true;  // To prevent multiple clicks.\n",
              "          quickchartButtonEl.classList.add('colab-df-spinner');\n",
              "          try {\n",
              "            const charts = await google.colab.kernel.invokeFunction(\n",
              "                'suggestCharts', [key], {});\n",
              "          } catch (error) {\n",
              "            console.error('Error during call to suggestCharts:', error);\n",
              "          }\n",
              "          quickchartButtonEl.classList.remove('colab-df-spinner');\n",
              "          quickchartButtonEl.classList.add('colab-df-quickchart-complete');\n",
              "        }\n",
              "        (() => {\n",
              "          let quickchartButtonEl =\n",
              "            document.querySelector('#df-03081174-951f-4d79-a16c-39207ff4dff3 button');\n",
              "          quickchartButtonEl.style.display =\n",
              "            google.colab.kernel.accessAllowed ? 'block' : 'none';\n",
              "        })();\n",
              "      </script>\n",
              "    </div>\n",
              "\n",
              "    </div>\n",
              "  </div>\n"
            ],
            "application/vnd.google.colaboratory.intrinsic+json": {
              "type": "dataframe",
              "variable_name": "results_df",
              "summary": "{\n  \"name\": \"results_df\",\n  \"rows\": 294,\n  \"fields\": [\n    {\n      \"column\": \"y_test\",\n      \"properties\": {\n        \"dtype\": \"number\",\n        \"std\": 0,\n        \"min\": 0,\n        \"max\": 1,\n        \"num_unique_values\": 2,\n        \"samples\": [\n          1,\n          0\n        ],\n        \"semantic_type\": \"\",\n        \"description\": \"\"\n      }\n    },\n    {\n      \"column\": \"y_pred_lr\",\n      \"properties\": {\n        \"dtype\": \"number\",\n        \"std\": 0,\n        \"min\": 0,\n        \"max\": 1,\n        \"num_unique_values\": 2,\n        \"samples\": [\n          1,\n          0\n        ],\n        \"semantic_type\": \"\",\n        \"description\": \"\"\n      }\n    },\n    {\n      \"column\": \"y_pred_dt\",\n      \"properties\": {\n        \"dtype\": \"number\",\n        \"std\": 0,\n        \"min\": 0,\n        \"max\": 1,\n        \"num_unique_values\": 2,\n        \"samples\": [\n          1,\n          0\n        ],\n        \"semantic_type\": \"\",\n        \"description\": \"\"\n      }\n    },\n    {\n      \"column\": \"lr_correct\",\n      \"properties\": {\n        \"dtype\": \"boolean\",\n        \"num_unique_values\": 2,\n        \"samples\": [\n          false,\n          true\n        ],\n        \"semantic_type\": \"\",\n        \"description\": \"\"\n      }\n    },\n    {\n      \"column\": \"dt_correct\",\n      \"properties\": {\n        \"dtype\": \"boolean\",\n        \"num_unique_values\": 2,\n        \"samples\": [\n          false,\n          true\n        ],\n        \"semantic_type\": \"\",\n        \"description\": \"\"\n      }\n    }\n  ]\n}"
            }
          },
          "metadata": {},
          "execution_count": 31
        }
      ]
    },
    {
      "cell_type": "markdown",
      "source": [
        "Q14. Evaluate both models using:\n",
        "* Accuracy\n",
        "* Confusion Matrix\n",
        "* Precision, Recall, F1 Score\n",
        "* ROC AUC Score\n",
        "Which model performs better overall?"
      ],
      "metadata": {
        "id": "Kxv7_LTF3n9n"
      }
    },
    {
      "cell_type": "code",
      "source": [
        "from sklearn.metrics import accuracy_score, classification_report\n",
        "from sklearn.metrics import confusion_matrix, roc_auc_score, roc_curve\n",
        "\n",
        "# evaluate Logistic Regression\n",
        "print('\\nLogist Regression')\n",
        "print('Accuracy:', accuracy_score(y_test, y_pred_lr))\n",
        "print('\\nConfusion Matrix:\\n', confusion_matrix(y_test, y_pred_lr))\n",
        "print('\\nClassification Report:\\n', classification_report(y_test, y_pred_lr))\n",
        "y_pred_proba_lr = log_reg.predict_proba(X_test_scaled)[:, 1]\n",
        "print('ROC AUC Score:', roc_auc_score(y_test, y_pred_proba_lr))\n",
        "\n",
        "print('\\nDecision Tree')\n",
        "print('Accuracy:', accuracy_score(y_test, y_pred_dt))\n",
        "print('\\nConfusion Matrix:\\n', confusion_matrix(y_test, y_pred_dt))\n",
        "print('\\nClassification Report:\\n', classification_report(y_test, y_pred_dt))\n",
        "y_pred_proba_dt = dt_clf.predict_proba(X_test)[:, 1]\n",
        "print('ROC AUC Score:', roc_auc_score(y_test, y_pred_proba_dt))\n"
      ],
      "metadata": {
        "colab": {
          "base_uri": "https://localhost:8080/"
        },
        "id": "NtQONPpk3rcs",
        "outputId": "51225405-c935-4767-e749-fba03c2f0e3a"
      },
      "execution_count": 32,
      "outputs": [
        {
          "output_type": "stream",
          "name": "stdout",
          "text": [
            "\n",
            "Logist Regression\n",
            "Accuracy: 0.8775510204081632\n",
            "\n",
            "Confusion Matrix:\n",
            " [[241  14]\n",
            " [ 22  17]]\n",
            "\n",
            "Classification Report:\n",
            "               precision    recall  f1-score   support\n",
            "\n",
            "           0       0.92      0.95      0.93       255\n",
            "           1       0.55      0.44      0.49        39\n",
            "\n",
            "    accuracy                           0.88       294\n",
            "   macro avg       0.73      0.69      0.71       294\n",
            "weighted avg       0.87      0.88      0.87       294\n",
            "\n",
            "ROC AUC Score: 0.7902463549522373\n",
            "\n",
            "Decision Tree\n",
            "Accuracy: 0.8537414965986394\n",
            "\n",
            "Confusion Matrix:\n",
            " [[249   6]\n",
            " [ 37   2]]\n",
            "\n",
            "Classification Report:\n",
            "               precision    recall  f1-score   support\n",
            "\n",
            "           0       0.87      0.98      0.92       255\n",
            "           1       0.25      0.05      0.09        39\n",
            "\n",
            "    accuracy                           0.85       294\n",
            "   macro avg       0.56      0.51      0.50       294\n",
            "weighted avg       0.79      0.85      0.81       294\n",
            "\n",
            "ROC AUC Score: 0.6388637506284565\n"
          ]
        }
      ]
    },
    {
      "cell_type": "code",
      "source": [
        "from sklearn.metrics import precision_score, recall_score, f1_score\n",
        "# Logistic Regression metrics\n",
        "lr_accuracy = accuracy_score(y_test, y_pred_lr)\n",
        "lr_precision = precision_score(y_test, y_pred_lr)\n",
        "lr_recall = recall_score(y_test, y_pred_lr)\n",
        "lr_f1 = f1_score(y_test, y_pred_lr)\n",
        "lr_roc_auc = roc_auc_score(y_test, y_pred_proba_lr)\n",
        "\n",
        "# Decision Tree metrics\n",
        "dt_accuracy = accuracy_score(y_test, y_pred_dt)\n",
        "dt_precision = precision_score(y_test, y_pred_dt)\n",
        "dt_recall = recall_score(y_test, y_pred_dt)\n",
        "dt_f1 = f1_score(y_test, y_pred_dt)\n",
        "dt_roc_auc = roc_auc_score(y_test, y_pred_proba_dt)\n",
        "\n",
        "# tabular format for better comparison\n",
        "metrics_df = pd.DataFrame({\n",
        "    'Accuracy': [lr_accuracy, dt_accuracy],\n",
        "    'Precision': [lr_precision, dt_precision],\n",
        "    'Recall': [lr_recall, dt_recall],\n",
        "    'F1 Score': [lr_f1, dt_f1],\n",
        "    'ROC AUC Score': [lr_roc_auc, dt_roc_auc]\n",
        "}, index=['Logistic Regression', 'Decision Tree'])\n",
        "\n",
        "metrics_df"
      ],
      "metadata": {
        "colab": {
          "base_uri": "https://localhost:8080/",
          "height": 125
        },
        "id": "tN9wX1XS5TUV",
        "outputId": "8226def5-e37c-4895-d29c-e73c48a71275"
      },
      "execution_count": 33,
      "outputs": [
        {
          "output_type": "execute_result",
          "data": {
            "text/plain": [
              "                     Accuracy  Precision    Recall  F1 Score  ROC AUC Score\n",
              "Logistic Regression  0.877551   0.548387  0.435897  0.485714       0.790246\n",
              "Decision Tree        0.853741   0.250000  0.051282  0.085106       0.638864"
            ],
            "text/html": [
              "\n",
              "  <div id=\"df-33238a66-5395-4214-b9e3-e9a96ad80dc2\" class=\"colab-df-container\">\n",
              "    <div>\n",
              "<style scoped>\n",
              "    .dataframe tbody tr th:only-of-type {\n",
              "        vertical-align: middle;\n",
              "    }\n",
              "\n",
              "    .dataframe tbody tr th {\n",
              "        vertical-align: top;\n",
              "    }\n",
              "\n",
              "    .dataframe thead th {\n",
              "        text-align: right;\n",
              "    }\n",
              "</style>\n",
              "<table border=\"1\" class=\"dataframe\">\n",
              "  <thead>\n",
              "    <tr style=\"text-align: right;\">\n",
              "      <th></th>\n",
              "      <th>Accuracy</th>\n",
              "      <th>Precision</th>\n",
              "      <th>Recall</th>\n",
              "      <th>F1 Score</th>\n",
              "      <th>ROC AUC Score</th>\n",
              "    </tr>\n",
              "  </thead>\n",
              "  <tbody>\n",
              "    <tr>\n",
              "      <th>Logistic Regression</th>\n",
              "      <td>0.877551</td>\n",
              "      <td>0.548387</td>\n",
              "      <td>0.435897</td>\n",
              "      <td>0.485714</td>\n",
              "      <td>0.790246</td>\n",
              "    </tr>\n",
              "    <tr>\n",
              "      <th>Decision Tree</th>\n",
              "      <td>0.853741</td>\n",
              "      <td>0.250000</td>\n",
              "      <td>0.051282</td>\n",
              "      <td>0.085106</td>\n",
              "      <td>0.638864</td>\n",
              "    </tr>\n",
              "  </tbody>\n",
              "</table>\n",
              "</div>\n",
              "    <div class=\"colab-df-buttons\">\n",
              "\n",
              "  <div class=\"colab-df-container\">\n",
              "    <button class=\"colab-df-convert\" onclick=\"convertToInteractive('df-33238a66-5395-4214-b9e3-e9a96ad80dc2')\"\n",
              "            title=\"Convert this dataframe to an interactive table.\"\n",
              "            style=\"display:none;\">\n",
              "\n",
              "  <svg xmlns=\"http://www.w3.org/2000/svg\" height=\"24px\" viewBox=\"0 -960 960 960\">\n",
              "    <path d=\"M120-120v-720h720v720H120Zm60-500h600v-160H180v160Zm220 220h160v-160H400v160Zm0 220h160v-160H400v160ZM180-400h160v-160H180v160Zm440 0h160v-160H620v160ZM180-180h160v-160H180v160Zm440 0h160v-160H620v160Z\"/>\n",
              "  </svg>\n",
              "    </button>\n",
              "\n",
              "  <style>\n",
              "    .colab-df-container {\n",
              "      display:flex;\n",
              "      gap: 12px;\n",
              "    }\n",
              "\n",
              "    .colab-df-convert {\n",
              "      background-color: #E8F0FE;\n",
              "      border: none;\n",
              "      border-radius: 50%;\n",
              "      cursor: pointer;\n",
              "      display: none;\n",
              "      fill: #1967D2;\n",
              "      height: 32px;\n",
              "      padding: 0 0 0 0;\n",
              "      width: 32px;\n",
              "    }\n",
              "\n",
              "    .colab-df-convert:hover {\n",
              "      background-color: #E2EBFA;\n",
              "      box-shadow: 0px 1px 2px rgba(60, 64, 67, 0.3), 0px 1px 3px 1px rgba(60, 64, 67, 0.15);\n",
              "      fill: #174EA6;\n",
              "    }\n",
              "\n",
              "    .colab-df-buttons div {\n",
              "      margin-bottom: 4px;\n",
              "    }\n",
              "\n",
              "    [theme=dark] .colab-df-convert {\n",
              "      background-color: #3B4455;\n",
              "      fill: #D2E3FC;\n",
              "    }\n",
              "\n",
              "    [theme=dark] .colab-df-convert:hover {\n",
              "      background-color: #434B5C;\n",
              "      box-shadow: 0px 1px 3px 1px rgba(0, 0, 0, 0.15);\n",
              "      filter: drop-shadow(0px 1px 2px rgba(0, 0, 0, 0.3));\n",
              "      fill: #FFFFFF;\n",
              "    }\n",
              "  </style>\n",
              "\n",
              "    <script>\n",
              "      const buttonEl =\n",
              "        document.querySelector('#df-33238a66-5395-4214-b9e3-e9a96ad80dc2 button.colab-df-convert');\n",
              "      buttonEl.style.display =\n",
              "        google.colab.kernel.accessAllowed ? 'block' : 'none';\n",
              "\n",
              "      async function convertToInteractive(key) {\n",
              "        const element = document.querySelector('#df-33238a66-5395-4214-b9e3-e9a96ad80dc2');\n",
              "        const dataTable =\n",
              "          await google.colab.kernel.invokeFunction('convertToInteractive',\n",
              "                                                    [key], {});\n",
              "        if (!dataTable) return;\n",
              "\n",
              "        const docLinkHtml = 'Like what you see? Visit the ' +\n",
              "          '<a target=\"_blank\" href=https://colab.research.google.com/notebooks/data_table.ipynb>data table notebook</a>'\n",
              "          + ' to learn more about interactive tables.';\n",
              "        element.innerHTML = '';\n",
              "        dataTable['output_type'] = 'display_data';\n",
              "        await google.colab.output.renderOutput(dataTable, element);\n",
              "        const docLink = document.createElement('div');\n",
              "        docLink.innerHTML = docLinkHtml;\n",
              "        element.appendChild(docLink);\n",
              "      }\n",
              "    </script>\n",
              "  </div>\n",
              "\n",
              "\n",
              "    <div id=\"df-a5e63bd2-0ed5-4779-ac20-0994ff41ee20\">\n",
              "      <button class=\"colab-df-quickchart\" onclick=\"quickchart('df-a5e63bd2-0ed5-4779-ac20-0994ff41ee20')\"\n",
              "                title=\"Suggest charts\"\n",
              "                style=\"display:none;\">\n",
              "\n",
              "<svg xmlns=\"http://www.w3.org/2000/svg\" height=\"24px\"viewBox=\"0 0 24 24\"\n",
              "     width=\"24px\">\n",
              "    <g>\n",
              "        <path d=\"M19 3H5c-1.1 0-2 .9-2 2v14c0 1.1.9 2 2 2h14c1.1 0 2-.9 2-2V5c0-1.1-.9-2-2-2zM9 17H7v-7h2v7zm4 0h-2V7h2v10zm4 0h-2v-4h2v4z\"/>\n",
              "    </g>\n",
              "</svg>\n",
              "      </button>\n",
              "\n",
              "<style>\n",
              "  .colab-df-quickchart {\n",
              "      --bg-color: #E8F0FE;\n",
              "      --fill-color: #1967D2;\n",
              "      --hover-bg-color: #E2EBFA;\n",
              "      --hover-fill-color: #174EA6;\n",
              "      --disabled-fill-color: #AAA;\n",
              "      --disabled-bg-color: #DDD;\n",
              "  }\n",
              "\n",
              "  [theme=dark] .colab-df-quickchart {\n",
              "      --bg-color: #3B4455;\n",
              "      --fill-color: #D2E3FC;\n",
              "      --hover-bg-color: #434B5C;\n",
              "      --hover-fill-color: #FFFFFF;\n",
              "      --disabled-bg-color: #3B4455;\n",
              "      --disabled-fill-color: #666;\n",
              "  }\n",
              "\n",
              "  .colab-df-quickchart {\n",
              "    background-color: var(--bg-color);\n",
              "    border: none;\n",
              "    border-radius: 50%;\n",
              "    cursor: pointer;\n",
              "    display: none;\n",
              "    fill: var(--fill-color);\n",
              "    height: 32px;\n",
              "    padding: 0;\n",
              "    width: 32px;\n",
              "  }\n",
              "\n",
              "  .colab-df-quickchart:hover {\n",
              "    background-color: var(--hover-bg-color);\n",
              "    box-shadow: 0 1px 2px rgba(60, 64, 67, 0.3), 0 1px 3px 1px rgba(60, 64, 67, 0.15);\n",
              "    fill: var(--button-hover-fill-color);\n",
              "  }\n",
              "\n",
              "  .colab-df-quickchart-complete:disabled,\n",
              "  .colab-df-quickchart-complete:disabled:hover {\n",
              "    background-color: var(--disabled-bg-color);\n",
              "    fill: var(--disabled-fill-color);\n",
              "    box-shadow: none;\n",
              "  }\n",
              "\n",
              "  .colab-df-spinner {\n",
              "    border: 2px solid var(--fill-color);\n",
              "    border-color: transparent;\n",
              "    border-bottom-color: var(--fill-color);\n",
              "    animation:\n",
              "      spin 1s steps(1) infinite;\n",
              "  }\n",
              "\n",
              "  @keyframes spin {\n",
              "    0% {\n",
              "      border-color: transparent;\n",
              "      border-bottom-color: var(--fill-color);\n",
              "      border-left-color: var(--fill-color);\n",
              "    }\n",
              "    20% {\n",
              "      border-color: transparent;\n",
              "      border-left-color: var(--fill-color);\n",
              "      border-top-color: var(--fill-color);\n",
              "    }\n",
              "    30% {\n",
              "      border-color: transparent;\n",
              "      border-left-color: var(--fill-color);\n",
              "      border-top-color: var(--fill-color);\n",
              "      border-right-color: var(--fill-color);\n",
              "    }\n",
              "    40% {\n",
              "      border-color: transparent;\n",
              "      border-right-color: var(--fill-color);\n",
              "      border-top-color: var(--fill-color);\n",
              "    }\n",
              "    60% {\n",
              "      border-color: transparent;\n",
              "      border-right-color: var(--fill-color);\n",
              "    }\n",
              "    80% {\n",
              "      border-color: transparent;\n",
              "      border-right-color: var(--fill-color);\n",
              "      border-bottom-color: var(--fill-color);\n",
              "    }\n",
              "    90% {\n",
              "      border-color: transparent;\n",
              "      border-bottom-color: var(--fill-color);\n",
              "    }\n",
              "  }\n",
              "</style>\n",
              "\n",
              "      <script>\n",
              "        async function quickchart(key) {\n",
              "          const quickchartButtonEl =\n",
              "            document.querySelector('#' + key + ' button');\n",
              "          quickchartButtonEl.disabled = true;  // To prevent multiple clicks.\n",
              "          quickchartButtonEl.classList.add('colab-df-spinner');\n",
              "          try {\n",
              "            const charts = await google.colab.kernel.invokeFunction(\n",
              "                'suggestCharts', [key], {});\n",
              "          } catch (error) {\n",
              "            console.error('Error during call to suggestCharts:', error);\n",
              "          }\n",
              "          quickchartButtonEl.classList.remove('colab-df-spinner');\n",
              "          quickchartButtonEl.classList.add('colab-df-quickchart-complete');\n",
              "        }\n",
              "        (() => {\n",
              "          let quickchartButtonEl =\n",
              "            document.querySelector('#df-a5e63bd2-0ed5-4779-ac20-0994ff41ee20 button');\n",
              "          quickchartButtonEl.style.display =\n",
              "            google.colab.kernel.accessAllowed ? 'block' : 'none';\n",
              "        })();\n",
              "      </script>\n",
              "    </div>\n",
              "\n",
              "  <div id=\"id_8872482e-d795-4b51-9aad-55bf455d0fcb\">\n",
              "    <style>\n",
              "      .colab-df-generate {\n",
              "        background-color: #E8F0FE;\n",
              "        border: none;\n",
              "        border-radius: 50%;\n",
              "        cursor: pointer;\n",
              "        display: none;\n",
              "        fill: #1967D2;\n",
              "        height: 32px;\n",
              "        padding: 0 0 0 0;\n",
              "        width: 32px;\n",
              "      }\n",
              "\n",
              "      .colab-df-generate:hover {\n",
              "        background-color: #E2EBFA;\n",
              "        box-shadow: 0px 1px 2px rgba(60, 64, 67, 0.3), 0px 1px 3px 1px rgba(60, 64, 67, 0.15);\n",
              "        fill: #174EA6;\n",
              "      }\n",
              "\n",
              "      [theme=dark] .colab-df-generate {\n",
              "        background-color: #3B4455;\n",
              "        fill: #D2E3FC;\n",
              "      }\n",
              "\n",
              "      [theme=dark] .colab-df-generate:hover {\n",
              "        background-color: #434B5C;\n",
              "        box-shadow: 0px 1px 3px 1px rgba(0, 0, 0, 0.15);\n",
              "        filter: drop-shadow(0px 1px 2px rgba(0, 0, 0, 0.3));\n",
              "        fill: #FFFFFF;\n",
              "      }\n",
              "    </style>\n",
              "    <button class=\"colab-df-generate\" onclick=\"generateWithVariable('metrics_df')\"\n",
              "            title=\"Generate code using this dataframe.\"\n",
              "            style=\"display:none;\">\n",
              "\n",
              "  <svg xmlns=\"http://www.w3.org/2000/svg\" height=\"24px\"viewBox=\"0 0 24 24\"\n",
              "       width=\"24px\">\n",
              "    <path d=\"M7,19H8.4L18.45,9,17,7.55,7,17.6ZM5,21V16.75L18.45,3.32a2,2,0,0,1,2.83,0l1.4,1.43a1.91,1.91,0,0,1,.58,1.4,1.91,1.91,0,0,1-.58,1.4L9.25,21ZM18.45,9,17,7.55Zm-12,3A5.31,5.31,0,0,0,4.9,8.1,5.31,5.31,0,0,0,1,6.5,5.31,5.31,0,0,0,4.9,4.9,5.31,5.31,0,0,0,6.5,1,5.31,5.31,0,0,0,8.1,4.9,5.31,5.31,0,0,0,12,6.5,5.46,5.46,0,0,0,6.5,12Z\"/>\n",
              "  </svg>\n",
              "    </button>\n",
              "    <script>\n",
              "      (() => {\n",
              "      const buttonEl =\n",
              "        document.querySelector('#id_8872482e-d795-4b51-9aad-55bf455d0fcb button.colab-df-generate');\n",
              "      buttonEl.style.display =\n",
              "        google.colab.kernel.accessAllowed ? 'block' : 'none';\n",
              "\n",
              "      buttonEl.onclick = () => {\n",
              "        google.colab.notebook.generateWithVariable('metrics_df');\n",
              "      }\n",
              "      })();\n",
              "    </script>\n",
              "  </div>\n",
              "\n",
              "    </div>\n",
              "  </div>\n"
            ],
            "application/vnd.google.colaboratory.intrinsic+json": {
              "type": "dataframe",
              "variable_name": "metrics_df",
              "summary": "{\n  \"name\": \"metrics_df\",\n  \"rows\": 2,\n  \"fields\": [\n    {\n      \"column\": \"Accuracy\",\n      \"properties\": {\n        \"dtype\": \"number\",\n        \"std\": 0.016835875742536865,\n        \"min\": 0.8537414965986394,\n        \"max\": 0.8775510204081632,\n        \"num_unique_values\": 2,\n        \"samples\": [\n          0.8537414965986394,\n          0.8775510204081632\n        ],\n        \"semantic_type\": \"\",\n        \"description\": \"\"\n      }\n    },\n    {\n      \"column\": \"Precision\",\n      \"properties\": {\n        \"dtype\": \"number\",\n        \"std\": 0.21099153954759883,\n        \"min\": 0.25,\n        \"max\": 0.5483870967741935,\n        \"num_unique_values\": 2,\n        \"samples\": [\n          0.25,\n          0.5483870967741935\n        ],\n        \"semantic_type\": \"\",\n        \"description\": \"\"\n      }\n    },\n    {\n      \"column\": \"Recall\",\n      \"properties\": {\n        \"dtype\": \"number\",\n        \"std\": 0.27196414661021057,\n        \"min\": 0.05128205128205128,\n        \"max\": 0.4358974358974359,\n        \"num_unique_values\": 2,\n        \"samples\": [\n          0.05128205128205128,\n          0.4358974358974359\n        ],\n        \"semantic_type\": \"\",\n        \"description\": \"\"\n      }\n    },\n    {\n      \"column\": \"F1 Score\",\n      \"properties\": {\n        \"dtype\": \"number\",\n        \"std\": 0.28327256462123696,\n        \"min\": 0.0851063829787234,\n        \"max\": 0.4857142857142857,\n        \"num_unique_values\": 2,\n        \"samples\": [\n          0.0851063829787234,\n          0.4857142857142857\n        ],\n        \"semantic_type\": \"\",\n        \"description\": \"\"\n      }\n    },\n    {\n      \"column\": \"ROC AUC Score\",\n      \"properties\": {\n        \"dtype\": \"number\",\n        \"std\": 0.10704366607102538,\n        \"min\": 0.6388637506284565,\n        \"max\": 0.7902463549522373,\n        \"num_unique_values\": 2,\n        \"samples\": [\n          0.6388637506284565,\n          0.7902463549522373\n        ],\n        \"semantic_type\": \"\",\n        \"description\": \"\"\n      }\n    }\n  ]\n}"
            }
          },
          "metadata": {},
          "execution_count": 33
        }
      ]
    },
    {
      "cell_type": "markdown",
      "metadata": {
        "id": "0addd024"
      },
      "source": [
        "**Results**:\n",
        "\n",
        "*   **Accuracy:** Logistic Regression accuracy (0.878) > Decision Tree accuragy (0.854). LR performed better\n",
        "\n",
        "*   **Precision:** Logistic Regression precision (0.548) >> Decision Tree precision (0.250). igher precision is important when minimizing false positives is crucial\n",
        "\n",
        "*   **Recall (for class 1 - Attrition 'Yes'):** Logistic Regressionrecall (0.436) >> Decision Tree recall (0.051). Higher recall is important when minimizing false negatives is crucial (fail to identify an employee who is likely to leave).\n",
        "\n",
        "*   **F1 Score (for class 1 - Attrition 'Yes'):** Logistic Regression F1 Score (0.486) >> Decision Tree F1 score (0.085). This means overall performance ofr Logistinc Regression in predicting.\n",
        "\n",
        "*   **ROC AUC Score:** Logistic Regression ROC AUC Score (0.790) > Decision Tree ROC AUC Score (0.639).  Logistic Regssion better discriminates\n",
        "\n",
        "\n",
        "**Logistic Regression model performs significantly better** than the Decision Tree."
      ]
    },
    {
      "cell_type": "markdown",
      "source": [
        "#Visual Analysis#"
      ],
      "metadata": {
        "id": "e01yF3hg8Na-"
      }
    },
    {
      "cell_type": "markdown",
      "source": [
        "Q15. Plot the confusion matrix for both models. What do they tell you?\n"
      ],
      "metadata": {
        "id": "QmkraSa98OYa"
      }
    },
    {
      "cell_type": "code",
      "source": [
        "# Confusion Matrix for Logistic Regression\n",
        "cm_lr = confusion_matrix(y_test, y_pred_lr)\n",
        "plt.figure(figsize=(6, 4))\n",
        "sns.heatmap(cm_lr, annot=True, fmt='d', cmap='Blues', xticklabels=['Stayed', 'Left'], yticklabels=['Stayed', 'Left'])\n",
        "plt.title('Confusion Matrix - Logistic Regression')\n",
        "plt.xlabel('Predicted')\n",
        "plt.ylabel('Actual')\n",
        "plt.show()\n",
        "\n"
      ],
      "metadata": {
        "colab": {
          "base_uri": "https://localhost:8080/",
          "height": 410
        },
        "id": "Mfd-gJ_48eow",
        "outputId": "e7df7b2c-5563-40c2-de97-011e2e044c97"
      },
      "execution_count": 34,
      "outputs": [
        {
          "output_type": "display_data",
          "data": {
            "text/plain": [
              "<Figure size 600x400 with 2 Axes>"
            ],
            "image/png": "[encoded data removed]"
          },
          "metadata": {}
        }
      ]
    },
    {
      "cell_type": "code",
      "source": [
        "# Confusion Matrix for Decision Tree\n",
        "cm_dt = confusion_matrix(y_test, y_pred_dt)\n",
        "plt.figure(figsize=(6, 4))\n",
        "sns.heatmap(cm_dt, annot=True, fmt='d', cmap='Blues', xticklabels=['Stayed', 'Left'], yticklabels=['Stayed', 'Left'])\n",
        "plt.title('Confusion Matrix - Decision Tree')\n",
        "plt.xlabel('Predicted')\n",
        "plt.ylabel('Actual')\n",
        "plt.show()"
      ],
      "metadata": {
        "colab": {
          "base_uri": "https://localhost:8080/",
          "height": 410
        },
        "id": "9MC68JiX84es",
        "outputId": "dbb321ed-fe34-412b-f03f-98d3562e8e24"
      },
      "execution_count": 35,
      "outputs": [
        {
          "output_type": "display_data",
          "data": {
            "text/plain": [
              "<Figure size 600x400 with 2 Axes>"
            ],
            "image/png": "[encoded data removed]"
          },
          "metadata": {}
        }
      ]
    },
    {
      "cell_type": "markdown",
      "source": [
        "* **Logistic Regression:**\n",
        "    *   TN: 241  staying employees\n",
        "    *   FP: 14 predicted as leaving when they stay\n",
        "    *   FN: 22 predicted as staying when they left\n",
        "    *   TP: 17 employees leaving.\n",
        "\n",
        "* **Decision Tree:**\n",
        "    *   TN: 249  staying employees\n",
        "    *   FP: 6 predicted as leaving when they stay\n",
        "    *   FN: 37 predicted as staying when they left\n",
        "    *   TP: 2 employees leaving.\n",
        "\n",
        "\n",
        "**Conclusion:**\n",
        "\n",
        "Logistic Regression model is better at identifying employees who are likely to leave (high TP and low FN)\n",
        "\n",
        "The Decision Tree has a very high number of FN, meaning it misses employees who actually leave."
      ],
      "metadata": {
        "id": "SxE3OfOw_gxW"
      }
    },
    {
      "cell_type": "markdown",
      "source": [
        "Q16. Plot the ROC Curve for both models. Which has a better AUC?"
      ],
      "metadata": {
        "id": "pn684zFk8Tuk"
      }
    },
    {
      "cell_type": "code",
      "source": [
        "from sklearn.metrics import roc_curve, auc\n",
        "\n",
        "# logistic regression ROC/AUC\n",
        "fpr_lr, tpr_lr, thresholds_lr = roc_curve(y_test, y_pred_proba_lr)\n",
        "roc_auc_lr = auc(fpr_lr, tpr_lr)\n",
        "\n",
        "# decision tree ROC/AUC\n",
        "fpr_dt, tpr_dt, thresholds_dt = roc_curve(y_test, y_pred_proba_dt)\n",
        "roc_auc_dt = auc(fpr_dt, tpr_dt)\n",
        "\n",
        "# plot\n",
        "plt.figure(figsize=(8, 6))\n",
        "plt.plot(fpr_lr, tpr_lr, color='green', lw=2, label='Logistic Regression (AUC = %0.2f)' % roc_auc_lr)\n",
        "plt.plot(fpr_dt, tpr_dt, color='red', lw=2, label='Decision Tree (AUC = %0.2f)' % roc_auc_dt)\n",
        "plt.plot([0, 1], [0, 1], color='navy', lw=2, linestyle='--')\n",
        "plt.xlim([0.0, 1.0])\n",
        "plt.ylim([0.0, 1.05])\n",
        "plt.xlabel('False Positive Rate')\n",
        "plt.ylabel('True Positive Rate')\n",
        "plt.title('ROC Curve')\n",
        "plt.legend(loc='lower right')\n",
        "plt.show()"
      ],
      "metadata": {
        "colab": {
          "base_uri": "https://localhost:8080/",
          "height": 564
        },
        "id": "DhH9ecQf__3l",
        "outputId": "c0a0bd23-45b7-4634-8cee-fde9530a90c6"
      },
      "execution_count": 36,
      "outputs": [
        {
          "output_type": "display_data",
          "data": {
            "text/plain": [
              "<Figure size 800x600 with 1 Axes>"
            ],
            "image/png": "[encoded data removed]"
          },
          "metadata": {}
        }
      ]
    },
    {
      "cell_type": "markdown",
      "source": [
        "*   **Logistic Regression AUC = 0.79**\n",
        "*   **Decision Tree AUC = 0.64**\n",
        "\n",
        "The **Logistic Regression model has a better AUC** (0.79) compared to the Decision Tree model (0.64).\n",
        "This means that Logistic Regression has an higher ability to distinguish between FP and TP"
      ],
      "metadata": {
        "id": "CeaOSOoaBP11"
      }
    },
    {
      "cell_type": "markdown",
      "source": [],
      "metadata": {
        "id": "UTui5Yjm8RRD"
      }
    },
    {
      "cell_type": "markdown",
      "source": [
        "#Interpretation#"
      ],
      "metadata": {
        "id": "sP_31AXE8Wez"
      }
    },
    {
      "cell_type": "markdown",
      "source": [
        "Q17. What are the most important features in predicting attrition (use .coef_ for Logistic, .feature_importances_ for Decision Tree)?"
      ],
      "metadata": {
        "id": "kUbWkUuc8Z6b"
      }
    },
    {
      "cell_type": "code",
      "source": [
        "# print LR coefficients\n",
        "log_reg.coef_"
      ],
      "metadata": {
        "colab": {
          "base_uri": "https://localhost:8080/"
        },
        "id": "0mm-ue72Badc",
        "outputId": "710e9a8b-d478-427c-f782-042f5f3b9c42"
      },
      "execution_count": 37,
      "outputs": [
        {
          "output_type": "execute_result",
          "data": {
            "text/plain": [
              "array([[-0.24425304, -0.11215274,  0.33897065,  0.0655529 , -0.41264521,\n",
              "         0.21970197,  0.03437246, -0.3397343 , -0.11592217, -0.43343367,\n",
              "         0.19331046,  0.09274038,  0.50973607,  0.97532423, -0.05298426,\n",
              "        -0.02093863, -0.17088165,  0.        , -0.17451771, -0.46254511,\n",
              "        -0.20679053, -0.25551851,  0.66828929, -0.6411882 ,  0.50086025,\n",
              "        -0.46278944,  0.71795027,  0.44124644,  0.04874583,  0.27799414,\n",
              "        -0.29178301, -0.0917678 , -0.25640125, -0.12713119,  0.12758327,\n",
              "         0.35656346,  0.78080822,  0.02470355,  0.16206668, -0.27356239,\n",
              "         0.39899912,  0.3868612 ,  0.50654195,  0.2092989 ,  0.62552417]])"
            ]
          },
          "metadata": {},
          "execution_count": 37
        }
      ]
    },
    {
      "cell_type": "markdown",
      "metadata": {
        "id": "5d4b1e3a"
      },
      "source": []
    },
    {
      "cell_type": "code",
      "source": [
        "# print DT features\n",
        "dt_clf.feature_importances_"
      ],
      "metadata": {
        "colab": {
          "base_uri": "https://localhost:8080/"
        },
        "id": "39Wy9VCNBs3M",
        "outputId": "49272d12-5b5c-4a76-bb1a-27ace38daa3d"
      },
      "execution_count": 38,
      "outputs": [
        {
          "output_type": "execute_result",
          "data": {
            "text/plain": [
              "array([0.01618573, 0.09187747, 0.        , 0.        , 0.        ,\n",
              "       0.        , 0.        , 0.        , 0.03028768, 0.03272003,\n",
              "       0.23526735, 0.        , 0.        , 0.23138504, 0.        ,\n",
              "       0.        , 0.        , 0.        , 0.02595767, 0.07930268,\n",
              "       0.        , 0.        , 0.02746289, 0.04410271, 0.04398693,\n",
              "       0.        , 0.04058628, 0.        , 0.        , 0.        ,\n",
              "       0.        , 0.        , 0.        , 0.        , 0.        ,\n",
              "       0.        , 0.        , 0.        , 0.        , 0.        ,\n",
              "       0.01561971, 0.        , 0.        , 0.        , 0.08525782])"
            ]
          },
          "metadata": {},
          "execution_count": 38
        }
      ]
    },
    {
      "cell_type": "markdown",
      "metadata": {
        "id": "d74953d9"
      },
      "source": []
    },
    {
      "cell_type": "code",
      "metadata": {
        "colab": {
          "base_uri": "https://localhost:8080/",
          "height": 416
        },
        "id": "e0dd6399",
        "outputId": "905be092-3cf0-432d-d033-e63de306c9fd"
      },
      "source": [
        "# LR: flatten the array into a series and order by absolute value descending\n",
        "coef = pd.Series(log_reg.coef_[0], index=X.columns)\n",
        "coef = coef.abs().sort_values(ascending=False)\n",
        "print('Logistic Regression coefficients:')\n",
        "coef.head(10)\n"
      ],
      "execution_count": 42,
      "outputs": [
        {
          "output_type": "stream",
          "name": "stdout",
          "text": [
            "Logistic Regression coefficients:\n"
          ]
        },
        {
          "output_type": "execute_result",
          "data": {
            "text/plain": [
              "OverTime                            0.975324\n",
              "JobRole_Laboratory Technician       0.780808\n",
              "BusinessTravel_Travel_Frequently    0.717950\n",
              "YearsAtCompany                      0.668289\n",
              "YearsInCurrentRole                  0.641188\n",
              "MaritalStatus_Single                0.625524\n",
              "NumCompaniesWorked                  0.509736\n",
              "JobRole_Sales Representative        0.506542\n",
              "YearsSinceLastPromotion             0.500860\n",
              "YearsWithCurrManager                0.462789\n",
              "dtype: float64"
            ],
            "text/html": [
              "<div>\n",
              "<style scoped>\n",
              "    .dataframe tbody tr th:only-of-type {\n",
              "        vertical-align: middle;\n",
              "    }\n",
              "\n",
              "    .dataframe tbody tr th {\n",
              "        vertical-align: top;\n",
              "    }\n",
              "\n",
              "    .dataframe thead th {\n",
              "        text-align: right;\n",
              "    }\n",
              "</style>\n",
              "<table border=\"1\" class=\"dataframe\">\n",
              "  <thead>\n",
              "    <tr style=\"text-align: right;\">\n",
              "      <th></th>\n",
              "      <th>0</th>\n",
              "    </tr>\n",
              "  </thead>\n",
              "  <tbody>\n",
              "    <tr>\n",
              "      <th>OverTime</th>\n",
              "      <td>0.975324</td>\n",
              "    </tr>\n",
              "    <tr>\n",
              "      <th>JobRole_Laboratory Technician</th>\n",
              "      <td>0.780808</td>\n",
              "    </tr>\n",
              "    <tr>\n",
              "      <th>BusinessTravel_Travel_Frequently</th>\n",
              "      <td>0.717950</td>\n",
              "    </tr>\n",
              "    <tr>\n",
              "      <th>YearsAtCompany</th>\n",
              "      <td>0.668289</td>\n",
              "    </tr>\n",
              "    <tr>\n",
              "      <th>YearsInCurrentRole</th>\n",
              "      <td>0.641188</td>\n",
              "    </tr>\n",
              "    <tr>\n",
              "      <th>MaritalStatus_Single</th>\n",
              "      <td>0.625524</td>\n",
              "    </tr>\n",
              "    <tr>\n",
              "      <th>NumCompaniesWorked</th>\n",
              "      <td>0.509736</td>\n",
              "    </tr>\n",
              "    <tr>\n",
              "      <th>JobRole_Sales Representative</th>\n",
              "      <td>0.506542</td>\n",
              "    </tr>\n",
              "    <tr>\n",
              "      <th>YearsSinceLastPromotion</th>\n",
              "      <td>0.500860</td>\n",
              "    </tr>\n",
              "    <tr>\n",
              "      <th>YearsWithCurrManager</th>\n",
              "      <td>0.462789</td>\n",
              "    </tr>\n",
              "  </tbody>\n",
              "</table>\n",
              "</div><br><label><b>dtype:</b> float64</label>"
            ]
          },
          "metadata": {},
          "execution_count": 42
        }
      ]
    },
    {
      "cell_type": "code",
      "source": [
        "# DT: flatten the array into a series and order by value descending\n",
        "fea_imp = pd.Series(dt_clf.feature_importances_, index=X.columns)\n",
        "fea_imp = fea_imp.sort_values(ascending=False)\n",
        "print('Decision Tree')\n",
        "fea_imp.head(10)"
      ],
      "metadata": {
        "colab": {
          "base_uri": "https://localhost:8080/",
          "height": 416
        },
        "id": "upL7441TDFBs",
        "outputId": "907c2f13-1e9a-4923-c342-b28669fc3ac9"
      },
      "execution_count": 43,
      "outputs": [
        {
          "output_type": "stream",
          "name": "stdout",
          "text": [
            "Decision Tree\n"
          ]
        },
        {
          "output_type": "execute_result",
          "data": {
            "text/plain": [
              "MonthlyIncome                       0.235267\n",
              "OverTime                            0.231385\n",
              "DailyRate                           0.091877\n",
              "MaritalStatus_Single                0.085258\n",
              "TotalWorkingYears                   0.079303\n",
              "YearsInCurrentRole                  0.044103\n",
              "YearsSinceLastPromotion             0.043987\n",
              "BusinessTravel_Travel_Frequently    0.040586\n",
              "JobSatisfaction                     0.032720\n",
              "JobLevel                            0.030288\n",
              "dtype: float64"
            ],
            "text/html": [
              "<div>\n",
              "<style scoped>\n",
              "    .dataframe tbody tr th:only-of-type {\n",
              "        vertical-align: middle;\n",
              "    }\n",
              "\n",
              "    .dataframe tbody tr th {\n",
              "        vertical-align: top;\n",
              "    }\n",
              "\n",
              "    .dataframe thead th {\n",
              "        text-align: right;\n",
              "    }\n",
              "</style>\n",
              "<table border=\"1\" class=\"dataframe\">\n",
              "  <thead>\n",
              "    <tr style=\"text-align: right;\">\n",
              "      <th></th>\n",
              "      <th>0</th>\n",
              "    </tr>\n",
              "  </thead>\n",
              "  <tbody>\n",
              "    <tr>\n",
              "      <th>MonthlyIncome</th>\n",
              "      <td>0.235267</td>\n",
              "    </tr>\n",
              "    <tr>\n",
              "      <th>OverTime</th>\n",
              "      <td>0.231385</td>\n",
              "    </tr>\n",
              "    <tr>\n",
              "      <th>DailyRate</th>\n",
              "      <td>0.091877</td>\n",
              "    </tr>\n",
              "    <tr>\n",
              "      <th>MaritalStatus_Single</th>\n",
              "      <td>0.085258</td>\n",
              "    </tr>\n",
              "    <tr>\n",
              "      <th>TotalWorkingYears</th>\n",
              "      <td>0.079303</td>\n",
              "    </tr>\n",
              "    <tr>\n",
              "      <th>YearsInCurrentRole</th>\n",
              "      <td>0.044103</td>\n",
              "    </tr>\n",
              "    <tr>\n",
              "      <th>YearsSinceLastPromotion</th>\n",
              "      <td>0.043987</td>\n",
              "    </tr>\n",
              "    <tr>\n",
              "      <th>BusinessTravel_Travel_Frequently</th>\n",
              "      <td>0.040586</td>\n",
              "    </tr>\n",
              "    <tr>\n",
              "      <th>JobSatisfaction</th>\n",
              "      <td>0.032720</td>\n",
              "    </tr>\n",
              "    <tr>\n",
              "      <th>JobLevel</th>\n",
              "      <td>0.030288</td>\n",
              "    </tr>\n",
              "  </tbody>\n",
              "</table>\n",
              "</div><br><label><b>dtype:</b> float64</label>"
            ]
          },
          "metadata": {},
          "execution_count": 43
        }
      ]
    },
    {
      "cell_type": "markdown",
      "source": [
        "Q18. What does the Logistic Regression model tell you about the odds of attrition for certain features like OverTime or JobSatisfaction?"
      ],
      "metadata": {
        "id": "DD50KpaBD8bo"
      }
    },
    {
      "cell_type": "code",
      "source": [
        "coef[['JobSatisfaction', 'OverTime']]"
      ],
      "metadata": {
        "id": "Ed-YlpAsEKTz"
      },
      "execution_count": null,
      "outputs": []
    },
    {
      "cell_type": "markdown",
      "source": [
        "* JobSatisfaction is negative, means that the more it increase the more descrease the probability the employee leave\n",
        "\n",
        "* OverTime has a large positive number which means the more the OverTime increase the more the employee leave"
      ],
      "metadata": {
        "id": "G6Du4wSWFGXb"
      }
    },
    {
      "cell_type": "markdown",
      "source": [],
      "metadata": {
        "id": "Oov_0R82FFDM"
      }
    },
    {
      "cell_type": "markdown",
      "source": [
        "Q19. What business insights can HR managers gain from this model?"
      ],
      "metadata": {
        "id": "pUc_1ACUD-YF"
      }
    },
    {
      "cell_type": "markdown",
      "source": [
        "The analysis tells the HR manager that he should consider the key drivers for attrition:\n",
        "* OverTime, MonthlyIncome, JobLevel JobRole_Laboratory_Technician\t and BusinessTravel_Travel_Frequently\n",
        "* take actions to reduce OverTime\n",
        "* implement a retention policy\n",
        "* concentrate on some roles like Technicial\n",
        "* and work on a policy for frequent business traveller employees"
      ],
      "metadata": {
        "id": "U3qPcn0pF20R"
      }
    },
    {
      "cell_type": "markdown",
      "source": [],
      "metadata": {
        "id": "eHJOhkNlF2hN"
      }
    },
    {
      "cell_type": "markdown",
      "source": [
        "Q20. Suggest 2-3 ways the company could reduce attrition based on your findings."
      ],
      "metadata": {
        "id": "Fp2a19PHECzQ"
      }
    },
    {
      "cell_type": "markdown",
      "source": [],
      "metadata": {
        "id": "3L8AQCKWHDNp"
      }
    },
    {
      "cell_type": "markdown",
      "source": [
        "The company should focus on the follogin key aspects:\n",
        "1. reduce Overtime\n",
        "\n",
        "2. increase compensation (or at least align to the competitor average\n",
        "\n",
        "3. work on the job satisfaction, especially for the tehcnical roles and the frequent business traveller."
      ],
      "metadata": {
        "id": "v3mLEaZCHEZ8"
      }
    }
  ]
}